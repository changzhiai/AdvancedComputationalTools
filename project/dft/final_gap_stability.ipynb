{
 "cells": [
  {
   "cell_type": "markdown",
   "metadata": {},
   "source": [
    "# Final Project - DFT calculations\n",
    "\n",
    "## Part 1: Calculations of band gaps and stabilities of perovskites\n",
    "\n",
    "In this part of the project, you will be considering one of the top 20 perovskite candidates and perform a study of its stability and band gap. For the calculation of the band gap you will have to calculate the band gaps at three different levels of theory, namely:\n",
    "- Using the PBEsol functions, which as a GGA functional.\n",
    "- Using the GLLB functional, which is a functional with a corrected potential for the one-electron energies.\n",
    "- Using GW, which is a many-body perturbation theory method.\n",
    "\n",
    "In all the cases you will consider the single unit cell of hte perovskite, which indludes only 5 atoms.\n",
    "\n",
    "In your reports, you need to compare the three levels of theory, and comment on their accuracy. You should also comment on how far/close are the GLLB band gaps from the GW ones, and how much more expensive is one method compared with the others. is the GLLB/GW band gap of your perovskite above 1.7 eV?\n",
    "\n",
    "Regarding the stability, you will need to calculate the relative energy of the perovskites versus the decompositions in the A and B elements oxides, i.e. you will need to analyze if the reaction $A_nO_m + B_r O_t \\rightarrow ABO_3$ is exothermic or endothermic. of course, if the reaction is exothermic you will consider your perovskite stable. If the reaction is endothermic, you will consider that your perovskite could be metastable if the reaction energy is less than 0.20 eV per formula unit of ABO$_3$. For this part, you will use only the PBEsol functional.\n",
    "\n",
    "In the following, you will find scripts you can use to answer the questions.\n",
    "\n",
    "First we will be doing the [stability calculations](#Stability-calculations), and then do the [band gap](#Band-gaps) calculations.\n",
    "\n",
    "**NB**: A pre-existing folder structure has already been created, so please stick to that folder structure, otherwise the scripts will not work."
   ]
  },
  {
   "cell_type": "markdown",
   "metadata": {},
   "source": [
    "### Stability calculations"
   ]
  },
  {
   "cell_type": "code",
   "execution_count": 1,
   "metadata": {},
   "outputs": [
    {
     "name": "stdout",
     "output_type": "stream",
     "text": [
      "Overwriting relax_O2.py\n"
     ]
    }
   ],
   "source": [
    "%%writefile relax_O2.py\n",
    "from os.path import join\n",
    "from ase.build import molecule\n",
    "from ase.optimize import BFGS\n",
    "from gpaw import GPAW, PW\n",
    "from ase.parallel import paropen\n",
    "from ase.visualize import view\n",
    "\n",
    "folder = 'relax/O2'\n",
    "folder = join(folder, '')  # Ensure trailing '/'\n",
    "\n",
    "# setting up the system\n",
    "atoms = molecule('O2', pbc=True)\n",
    "atoms.center(vacuum=5)\n",
    "\n",
    "if 0:\n",
    "    view(atoms)\n",
    "    assert False  # Break execution\n",
    "atoms.set_initial_magnetic_moments([1, 1])\n",
    "\n",
    "calc = GPAW(txt=folder+'O2.out',\n",
    "            mode=PW(600),\n",
    "            xc='PBEsol',  # what if we take LDA\n",
    "            basis='dzp',\n",
    "            spinpol=True)\n",
    "atoms.set_calculator(calc)\n",
    "BFGS(atoms, trajectory=folder+'O2.traj').run(fmax=0.02)\n",
    "epot = atoms.get_potential_energy()\n",
    "\n",
    "# Save the energy\n",
    "with paropen(folder+'energy.dat','w') as f:\n",
    "    print(f'Energy: {epot:.4f} eV', file=f)"
   ]
  },
  {
   "cell_type": "code",
   "execution_count": 2,
   "metadata": {},
   "outputs": [
    {
     "name": "stdout",
     "output_type": "stream",
     "text": [
      "7473310.hnode2\r\n"
     ]
    }
   ],
   "source": [
    "!qsub.py -p 8 -t 1 relax_O2.py"
   ]
  },
  {
   "cell_type": "code",
   "execution_count": 26,
   "metadata": {},
   "outputs": [
    {
     "name": "stdout",
     "output_type": "stream",
     "text": [
      "Overwriting relax_perovskite.py\n"
     ]
    }
   ],
   "source": [
    "%%writefile relax_perovskite.py\n",
    "\n",
    "from os.path import join\n",
    "import numpy as np\n",
    "from gpaw import GPAW, PW, FermiDirac\n",
    "from ase.constraints import StrainFilter\n",
    "from ase.optimize import BFGS\n",
    "from ase.parallel import paropen\n",
    "from ase.visualize import view\n",
    "from ase.io.trajectory import Trajectory\n",
    "from ase import Atoms\n",
    "\n",
    "folder = 'relax/perovskite'\n",
    "folder = join(folder, '')  # Ensure trailing '/'\n",
    "\n",
    "# --- parameters ---\n",
    "# Put here the formula of your perovskite, e.g. \"CaGeO3\"\n",
    "name = \"SrGeO3\"\n",
    "\n",
    "# The planewave cutoff, start with 600eV. \n",
    "# If you have time left when you are done with all calculation you can play around with this value to check convergence\n",
    "ecut = 600\n",
    " \n",
    "# Starting guess for the lattice parameter, this will most likely work well enough \n",
    "a = 3.5\n",
    "\n",
    "# Setting up the perovsktie\n",
    "atoms = Atoms(symbols=name,\n",
    "             pbc=True,\n",
    "             cell=np.array(\n",
    "                           [[ a,  0.,  0.],\n",
    "                            [ 0.,  a,  0.],\n",
    "                            [ 0.,  0.,  a]]\n",
    "                           ),\n",
    "             positions=np.array(\n",
    "                            [[ 0.,  0.,  0.],\n",
    "                             [ a/2,  a/2,  a/2],\n",
    "                             [ a/2,  a/2,  0.],\n",
    "                             [ 0.,  a/2,  a/2],\n",
    "                             [ a/2,  0.,  a/2]]))\n",
    "\n",
    "#visualize\n",
    "if 0:\n",
    "    view(atoms)\n",
    "    assert False\n",
    "# Put in a number of k-points along one direction\n",
    "# The total k-point grid will be (k,k,k)  \n",
    "k = 4\n",
    "k += k%2 # round up to next even number\n",
    "calc = GPAW(mode=PW(ecut),\n",
    "            kpts={'size': (k, k, k),'gamma':True},\n",
    "            xc='PBEsol',\n",
    "            basis='dzp',\n",
    "            txt=folder+name+'.out',\n",
    "            occupations=FermiDirac(width=0.01),\n",
    "            )\n",
    "\n",
    "atoms.set_calculator(calc)\n",
    "\n",
    "# Here we set up the optimizer\n",
    "# We only optimize the lattice parameter, keeping the relative positions of the atoms fixed\n",
    "ucf = StrainFilter(atoms)\n",
    "qn = BFGS(ucf, logfile=folder+\"log.log\")\n",
    "traj = Trajectory(folder+name+'.traj', 'w', atoms)\n",
    "qn.attach(traj)\n",
    "qn.run(fmax=0.02)\n",
    "epot = atoms.get_potential_energy()\n",
    "\n",
    "# diagonalize the full hamiltonian, we need this for the GW calculation\n",
    "calc.diagonalize_full_hamiltonian()\n",
    "calc.write(folder+name+'_groundstate.gpw', all)    # write out wavefunctions\n",
    "\n",
    "# Save the energy \n",
    "with paropen(folder+'energy.dat', 'w') as f:\n",
    "    print(f'Energy: {epot:.4f}', file=f)"
   ]
  },
  {
   "cell_type": "code",
   "execution_count": 27,
   "metadata": {},
   "outputs": [
    {
     "name": "stdout",
     "output_type": "stream",
     "text": [
      "7473328.hnode2\r\n"
     ]
    }
   ],
   "source": [
    "!qsub.py -p 8 -t 4 relax_perovskite.py"
   ]
  },
  {
   "cell_type": "code",
   "execution_count": 29,
   "metadata": {},
   "outputs": [
    {
     "name": "stdout",
     "output_type": "stream",
     "text": [
      "Job ID                    Name             User            Time Use S Queue\r\n",
      "------------------------- ---------------- --------------- -------- - -----\r\n",
      "7473328.hnode2             ...perovskite.py s171629                0 R hpc            \r\n"
     ]
    }
   ],
   "source": [
    "!qstat"
   ]
  },
  {
   "cell_type": "code",
   "execution_count": 6,
   "metadata": {},
   "outputs": [
    {
     "name": "stdout",
     "output_type": "stream",
     "text": [
      "Overwriting relax_oxide1.py\n"
     ]
    }
   ],
   "source": [
    "%%writefile relax_oxide1.py\n",
    "from os.path import join\n",
    "from gpaw import GPAW, PW, FermiDirac\n",
    "from ase.constraints import StrainFilter\n",
    "from ase.optimize import BFGS\n",
    "from ase.parallel import paropen\n",
    "from ase.io import read\n",
    "import numpy as np\n",
    "from gpaw import setup_paths\n",
    "from ase.build import niggli_reduce\n",
    "from ase.visualize import view\n",
    "from ase.io.trajectory import Trajectory\n",
    "\n",
    "folder = 'relax/oxide1'\n",
    "folder = join(folder, '')  # Ensure trailing '/'\n",
    "\n",
    "#parameters\n",
    "#put here the formula of one of your oxides here, e.g. \"CaO\"\n",
    "oxideName = \"SrO\"\n",
    "# The planewave cutoff, start with 600eV. \n",
    "# If you have time left when you are done with all calculation you can play around with this value to check convergence\n",
    "ecut = 600\n",
    "\n",
    "# pick a reasonable k-point sampling\n",
    "kpts={'size': (4, 4, 4) ,'gamma':True}\n",
    "\n",
    "# for reading oxide structure\n",
    "atoms = read(f\"oxides/{oxideName}.traj\")\n",
    "niggli_reduce(atoms) # avoid weird unit cells\n",
    "\n",
    "if 0:\n",
    "    view(atoms)\n",
    "    assert False\n",
    "\n",
    "calc = GPAW(mode=PW(ecut),\n",
    "            kpts=kpts,\n",
    "            xc='PBEsol',\n",
    "            txt=folder+oxideName+'.out',\n",
    "            occupations=FermiDirac(width=0.01),\n",
    "            eigensolver='rmm-diis',\n",
    "            #symmetry={'point_group': False}\n",
    "            )\n",
    "\n",
    "atoms.set_calculator(calc)\n",
    "\n",
    "# Here we set up the optimizer\n",
    "# We only optimize the lattice parameter, keeping the relative positions of the atoms fixed\n",
    "ucf = StrainFilter(atoms)\n",
    "qn = BFGS(ucf, logfile=folder+\"log.log\")\n",
    "traj = Trajectory(folder+oxideName+'.traj', 'w', atoms)\n",
    "qn.attach(traj)\n",
    "qn.run(fmax=0.02)\n",
    "epot=atoms.get_potential_energy()\n",
    "\n",
    "# Save the energy \n",
    "with paropen(folder+'energy.dat','w') as f:\n",
    "    print(f'Energy: {epot:.4f} eV', file=f)"
   ]
  },
  {
   "cell_type": "code",
   "execution_count": 8,
   "metadata": {},
   "outputs": [
    {
     "name": "stdout",
     "output_type": "stream",
     "text": [
      "7473312.hnode2\r\n"
     ]
    }
   ],
   "source": [
    "!qsub.py -p 8 -t 4 relax_oxide1.py"
   ]
  },
  {
   "cell_type": "code",
   "execution_count": 7,
   "metadata": {},
   "outputs": [
    {
     "name": "stdout",
     "output_type": "stream",
     "text": [
      "Job ID                    Name             User            Time Use S Queue\r\n",
      "------------------------- ---------------- --------------- -------- - -----\r\n",
      "7473310.hnode2             relax_O2.py      s171629         00:11:42 R hpc            \r\n",
      "7473311.hnode2             ...perovskite.py s171629         00:04:02 R hpc            \r\n"
     ]
    }
   ],
   "source": [
    "!qstat"
   ]
  },
  {
   "cell_type": "code",
   "execution_count": 9,
   "metadata": {},
   "outputs": [
    {
     "name": "stdout",
     "output_type": "stream",
     "text": [
      "Overwriting relax_oxide2.py\n"
     ]
    }
   ],
   "source": [
    "%%writefile relax_oxide2.py\n",
    "from os.path import join\n",
    "from gpaw import GPAW, PW, FermiDirac\n",
    "from ase.constraints import StrainFilter\n",
    "from ase.optimize import BFGS\n",
    "from ase.parallel import paropen\n",
    "from ase.io import read\n",
    "import numpy as np\n",
    "from gpaw import setup_paths\n",
    "from ase.build import niggli_reduce\n",
    "from ase.visualize import view\n",
    "from ase.io.trajectory import Trajectory\n",
    "\n",
    "folder = 'relax/oxide2'\n",
    "folder = join(folder, '')  # Ensure trailing '/'\n",
    "\n",
    "#parameters\n",
    "#put here the formula of one of your oxides here, e.g. \"GeO2\"\n",
    "oxideName = \"GeO2\"\n",
    "# The planewave cutoff, start with 600eV. \n",
    "# If you have time left when you are done with all calculation you can play around with this value to check convergence\n",
    "ecut = 600\n",
    "\n",
    "# pick a reasonable k-point sampling\n",
    "kpts={'size': (4, 4, 4) ,'gamma':True}\n",
    "\n",
    "# for reading oxide structure\n",
    "atoms = read(f\"oxides/{oxideName}.traj\")\n",
    "niggli_reduce(atoms) # avoid weird unit cells\n",
    "\n",
    "if 0:\n",
    "    view(atoms)\n",
    "    assert False\n",
    "\n",
    "calc = GPAW(mode=PW(ecut),\n",
    "            kpts=kpts,\n",
    "            xc='PBEsol',\n",
    "            txt=folder+oxideName+'.out',\n",
    "            occupations=FermiDirac(width=0.01),\n",
    "            eigensolver='rmm-diis',\n",
    "            #symmetry={'point_group': False}\n",
    "            )\n",
    "\n",
    "atoms.set_calculator(calc)\n",
    "atoms.get_potential_energy()\n",
    "\n",
    "# Here we set up the optimizer\n",
    "# We only optimize the lattice parameter, keeping the relative positions of the atoms fixed\n",
    "ucf = StrainFilter(atoms)\n",
    "qn = BFGS(ucf, logfile=folder+\"log.log\")\n",
    "traj = Trajectory(folder+oxideName+'.traj', 'w', atoms)\n",
    "qn.attach(traj)\n",
    "qn.run(fmax=0.02)\n",
    "epot=atoms.get_potential_energy()\n",
    "\n",
    "# Save the energy \n",
    "with paropen(folder+'energy.dat','w') as f:\n",
    "    print(f'Energy: {epot:.4f} eV', file=f)"
   ]
  },
  {
   "cell_type": "code",
   "execution_count": 10,
   "metadata": {},
   "outputs": [
    {
     "name": "stdout",
     "output_type": "stream",
     "text": [
      "7473313.hnode2\r\n"
     ]
    }
   ],
   "source": [
    "!qsub.py -p 8 -t 4 relax_oxide2.py"
   ]
  },
  {
   "cell_type": "markdown",
   "metadata": {},
   "source": [
    "### Band gaps"
   ]
  },
  {
   "cell_type": "code",
   "execution_count": 11,
   "metadata": {},
   "outputs": [
    {
     "name": "stdout",
     "output_type": "stream",
     "text": [
      "Overwriting pbesol_bandgap.py\n"
     ]
    }
   ],
   "source": [
    "%%writefile pbesol_bandgap.py\n",
    "from os.path import join\n",
    "from gpaw import GPAW, PW, FermiDirac\n",
    "from ase.parallel import paropen\n",
    "from ase.io import read\n",
    "from gpaw import setup_paths\n",
    "from ase.visualize import view\n",
    "from ase.dft.kpoints import ibz_points, get_bandpath\n",
    "from gpaw import setup_paths\n",
    "from ase.visualize import view\n",
    "from ase.dft.bandgap import bandgap\n",
    "from ase.parallel import paropen\n",
    "import numpy as np\n",
    "\n",
    "folder = 'bandgap/PBEsol'\n",
    "folder = join(folder, '')  # Ensure trailing '/'\n",
    "\n",
    "#parameters\n",
    "#put here the formula of your perovskite, e.g. \"CaGeO3\"\n",
    "name = \"SrGeO3\"\n",
    "\n",
    "# The planewave cutoff, start with 600eV. \n",
    "# If you have time left when you are done with all calculation you can play around with this value to check convergence\n",
    "ecut = 600\n",
    "# Put in a number of k-points along one direction\n",
    "# The total k-point grid will be (k,k,k)  \n",
    "k = 4\n",
    "k += k%2 # round up to next even number\n",
    "\n",
    "# read the optimized geometry\n",
    "atoms = read(f'relax/perovskite/{name}.traj')\n",
    "\n",
    "calc = GPAW(mode=PW(ecut),\n",
    "            kpts={'size': (k, k, k), 'gamma':True},\n",
    "            xc='PBEsol',\n",
    "            basis='dzp',\n",
    "            txt=folder+name+'.out',\n",
    "            nbands=50, # a lot of unoccupied bands to have better convergence of bandgap\n",
    "            occupations=FermiDirac(width=0.01)) #defual 0.05\n",
    "\n",
    "atoms.set_calculator(calc)\n",
    "\n",
    "atoms.get_potential_energy()\n",
    "\n",
    "calc.write(folder + name + '.gpw')\n",
    "\n",
    "nbands = 30\n",
    "\n",
    "# Restart from ground state and fix density:\n",
    "calc = GPAW(folder+name+'.gpw',\n",
    "            nbands=50,\n",
    "            kpts={'path': 'RGXMG', 'npoints': 100},  # Calculate high symmetry path\n",
    "            fixdensity=True,\n",
    "            symmetry='off',\n",
    "            txt = folder+name +'_fixed_density.out',\n",
    "            convergence={'bands': nbands},\n",
    "            eigensolver='cg')\n",
    "\n",
    "\n",
    "# Sampling the high symmetry parts of the brillouin zone\n",
    "atoms.set_calculator(calc)\n",
    "\n",
    "atoms.get_potential_energy()\n",
    "\n",
    "# Get the band gap\n",
    "gap, k1, k2 = bandgap(atoms.calc)\n",
    "gap_direct, k1, k2 = bandgap(atoms.calc, direct=True)\n",
    "np.savetxt(folder+\"DoNotTouch.txt\", [gap_direct-gap])\n",
    "\n",
    "# Save all wave functions for fixed density calculation\n",
    "# to construct band structure plot later\n",
    "calc.write(folder+name+'_fixed_density.gpw', mode='all')\n",
    "\n",
    "# write the minimal gap and the direct gap\n",
    "with paropen(folder+'gap.dat', 'w') as f:\n",
    "    print(f\"indirect gap: {gap:.3f} eV\", file=f)\n",
    "    print(f\"direct gap:   {gap_direct:.3f} eV\", file=f)"
   ]
  },
  {
   "cell_type": "code",
   "execution_count": 12,
   "metadata": {},
   "outputs": [
    {
     "name": "stdout",
     "output_type": "stream",
     "text": [
      "7473315.hnode2\r\n"
     ]
    }
   ],
   "source": [
    "!qsub.py -p 8 -t 1 pbesol_bandgap.py"
   ]
  },
  {
   "cell_type": "code",
   "execution_count": 13,
   "metadata": {},
   "outputs": [
    {
     "name": "stdout",
     "output_type": "stream",
     "text": [
      "Job ID                    Name             User            Time Use S Queue\r\n",
      "------------------------- ---------------- --------------- -------- - -----\r\n",
      "7473310.hnode2             relax_O2.py      s171629         01:11:34 C hpc            \r\n",
      "7473311.hnode2             ...perovskite.py s171629         00:31:31 C hpc            \r\n",
      "7473312.hnode2             relax_oxide1.py  s171629         00:12:28 R hpc            \r\n",
      "7473313.hnode2             relax_oxide2.py  s171629         00:09:33 C hpc            \r\n",
      "7473315.hnode2             ...ol_bandgap.py s171629                0 Q hpc            \r\n"
     ]
    }
   ],
   "source": [
    "!qstat"
   ]
  },
  {
   "cell_type": "code",
   "execution_count": 3,
   "metadata": {},
   "outputs": [],
   "source": [
    "!ase gui relax/perovskite/SrGeO3.traj"
   ]
  },
  {
   "cell_type": "code",
   "execution_count": 19,
   "metadata": {},
   "outputs": [
    {
     "name": "stdout",
     "output_type": "stream",
     "text": [
      "indirect gap: 0.409 eV\r\n",
      "direct gap:   1.167 eV\r\n"
     ]
    }
   ],
   "source": [
    "!cat bandgap/PBEsol/gap.dat"
   ]
  },
  {
   "cell_type": "code",
   "execution_count": 14,
   "metadata": {},
   "outputs": [
    {
     "name": "stdout",
     "output_type": "stream",
     "text": [
      "Overwriting gllb_bandgap.py\n"
     ]
    }
   ],
   "source": [
    "%%writefile gllb_bandgap.py\n",
    "from os.path import join\n",
    "from gpaw import GPAW, PW, FermiDirac\n",
    "from ase.parallel import paropen\n",
    "from ase.io import read\n",
    "from ase.visualize import view\n",
    "from ase.dft.kpoints import ibz_points, get_bandpath\n",
    "from gpaw import setup_paths\n",
    "from ase.visualize import view\n",
    "from ase.parallel import paropen\n",
    "from ase.dft.bandgap import bandgap\n",
    "\n",
    "folder = 'bandgap/gllb'\n",
    "folder = join(folder, '')  # Ensure trailing '/'\n",
    "\n",
    "#parameters\n",
    "#put here the formula of your perovskite, e.g. \"CaGeO3\"\n",
    "name = \"SrGeO3\"\n",
    "# The planewave cutoff, start with 600eV. \n",
    "# If you have time left when you are done with all calculation you can play around with this value to check convergence\n",
    "ecut = 600\n",
    "# Put in a number of k-points along one direction\n",
    "# The total k-point grid will be (k,k,k)  \n",
    "k = 4\n",
    "k += k%2 # round up to next even number\n",
    "\n",
    "# read the optimized geometry\n",
    "atoms = read(f\"relax/perovskite/{name}.traj\")\n",
    "\n",
    "\n",
    "calc = GPAW(mode=PW(ecut),\n",
    "            kpts={'size': (k, k, k),'gamma':True},\n",
    "            xc='GLLBSC',\n",
    "            basis='dzp',\n",
    "            txt=folder+name+'.out',\n",
    "            nbands=50,\n",
    "            occupations=FermiDirac(width=0.01),\n",
    "            )\n",
    "\n",
    "atoms.set_calculator(calc)\n",
    "\n",
    "atoms.get_potential_energy()\n",
    "\n",
    "calc.write(folder+name+'.gpw', 'all')\n",
    "\n",
    "nbands = 30\n",
    "\n",
    "# Restart from ground state and fix density:\n",
    "calc = GPAW(folder+name+'.gpw',\n",
    "            nbands=50,\n",
    "            kpts={'path': 'RGXMG', 'npoints': 100},\n",
    "            fixdensity=True,\n",
    "            symmetry='off',\n",
    "            txt=folder+name+'_fixed_density.out',\n",
    "            convergence={'bands': nbands},\n",
    "            eigensolver='cg')\n",
    " \n",
    "atoms.set_calculator(calc)\n",
    "\n",
    "atoms.get_potential_energy()\n",
    "\n",
    "gap, k1, k2 = bandgap(atoms.calc)\n",
    "gap_direct, k1, k2 = bandgap(atoms.calc, direct=True)\n",
    "#Important commands for calculating the response and the\n",
    "#derivatice discontinuity\n",
    "response = calc.hamiltonian.xc.xcs['RESPONSE']\n",
    "response.calculate_delta_xc()\n",
    "EKs, Dxc = response.calculate_delta_xc_perturbation()\n",
    "\n",
    "# fundamental band gap\n",
    "# EKs = kohn-sham bandgap\n",
    "# Dxc = derivative discontinuity\n",
    "gap_response = EKs+Dxc\n",
    "gap_response_direct = gap_response + (gap_direct - gap)\n",
    "\n",
    "# write the minimal gap\n",
    "with paropen(folder+'gap.dat', 'w') as f:\n",
    "    print(\"Indirect gap:  {:.3f} eV\".format(gap_response), file=f)\n",
    "    print(\"Direct gap:    {:.3f} eV\".format(gap_response_direct), file=f)"
   ]
  },
  {
   "cell_type": "code",
   "execution_count": 15,
   "metadata": {},
   "outputs": [
    {
     "name": "stdout",
     "output_type": "stream",
     "text": [
      "7473316.hnode2\r\n"
     ]
    }
   ],
   "source": [
    "!qsub.py -p 8 -t 1 gllb_bandgap.py"
   ]
  },
  {
   "cell_type": "code",
   "execution_count": 67,
   "metadata": {},
   "outputs": [
    {
     "name": "stdout",
     "output_type": "stream",
     "text": [
      "Job ID                    Name             User            Time Use S Queue\r\n",
      "------------------------- ---------------- --------------- -------- - -----\r\n",
      "7432722.hnode2             gllb_bandgap.py  s171629         00:27:19 C hpc            \r\n"
     ]
    }
   ],
   "source": [
    "!qstat"
   ]
  },
  {
   "cell_type": "code",
   "execution_count": 20,
   "metadata": {},
   "outputs": [
    {
     "name": "stdout",
     "output_type": "stream",
     "text": [
      "Indirect gap:  2.272 eV\r\n",
      "Direct gap:    2.850 eV\r\n"
     ]
    }
   ],
   "source": [
    "!cat bandgap/gllb/gap.dat"
   ]
  },
  {
   "cell_type": "code",
   "execution_count": 16,
   "metadata": {},
   "outputs": [
    {
     "name": "stdout",
     "output_type": "stream",
     "text": [
      "Overwriting gw_bandgap.py\n"
     ]
    }
   ],
   "source": [
    "%%writefile gw_bandgap.py\n",
    "import pickle\n",
    "from os.path import join\n",
    "from ase.parallel import paropen\n",
    "from ase.io import read\n",
    "\n",
    "from gpaw import GPAW\n",
    "from ase.visualize import view\n",
    "from ase.parallel import paropen\n",
    "from gpaw.response.g0w0 import G0W0\n",
    "import numpy as np\n",
    "\n",
    "folder = 'bandgap/gw'\n",
    "folder = join(folder, '')  # Ensure trailing '/'\n",
    "\n",
    "#parameters\n",
    "#put here the formula of your perovskite, e.g. \"CaGeO3\"\n",
    "name = \"SrGeO3\"\n",
    "\n",
    "# read the optimized geometry\n",
    "atoms = read(f\"relax/perovskite/{name}.traj\")\n",
    "\n",
    "calc = GPAW(f'relax/perovskite/{name}_groundstate.gpw',\n",
    "            txt=folder+name+'_groundstate.txt')\n",
    "\n",
    "# Do a full diagonalization\n",
    "calc.diagonalize_full_hamiltonian()\n",
    "calc.write(folder+name+'_groundstate-all.gpw', 'all')  # Write all wave functions\n",
    "\n",
    "# Figure out the total number of valence electrons\n",
    "valence = calc.get_number_of_electrons()\n",
    "\n",
    "# We start by setting up a G0W0 calculator object\n",
    "gw = G0W0(folder+name+'_groundstate-all.gpw',             # Path to groundstate gpw file\n",
    "          filename=folder+name + '_g0w0_ppa',  # filename base for output files\n",
    "          kpts=None,               # List of quasiparticle k-point indices or None = all k-points\n",
    "          bands=(int(valence//2.-1), int(valence//2.+1)),# include the highest valence band and lowest conduction band\n",
    "          ecut=50.,               # Plane wave basis cut-off energy, keep this at 50 at first, if you have time test the convergence of this\n",
    "          ppa=True)                # Use Plasmon Pole Approximation\n",
    "\n",
    "\n",
    "# Perform the GW calculation. The results, ie. quasiparticle energies, as\n",
    "# well as original Kohn-Sham eigenvalues, occupation numbers, DFT XC and\n",
    "# self-energy contributions and renormalization factors are returned as a\n",
    "# python dictionary object\n",
    "result = gw.calculate()\n",
    "\n",
    "ks_skn = result['eps']             # Get Kohn-Sham eigenvalues\n",
    "ks_cbmin = np.amin(ks_skn[0,:,1])  # DFT conduction band minimum\n",
    "ks_vbmax = np.amax(ks_skn[0,:,0])  # DFT valence band maximum\n",
    "ks_gap = ks_cbmin - ks_vbmax       # DFT band gap\n",
    "\n",
    "qp_skn = result['qp']              # GW quasiparticle energies\n",
    "qp_cbmin = np.amin(qp_skn[0,:,1])  # GW conduction band minimum\n",
    "qp_vbmax = np.amax(qp_skn[0,:,0])  # GW valence band maximum\n",
    "qp_gap = qp_cbmin - qp_vbmax       # GW band gap\n",
    "\n",
    "dGap = np.loadtxt(\"bandgap/PBEsol/DoNotTouch.txt\")\n",
    "qp_gap_direct = qp_gap+dGap\n",
    "\n",
    "# write the minimal gap\n",
    "with paropen(folder+'gap.dat', 'w') as f:\n",
    "    print ('Indirect G0W0 gap:  {:.3f}'.format(qp_gap), file=f)\n",
    "    print ('Direct G0W0 gap:    {:.3f}'.format(qp_gap_direct), file=f)"
   ]
  },
  {
   "cell_type": "code",
   "execution_count": 17,
   "metadata": {},
   "outputs": [
    {
     "name": "stdout",
     "output_type": "stream",
     "text": [
      "7473317.hnode2\r\n"
     ]
    }
   ],
   "source": [
    "!qsub.py -p 8 -t 1 gw_bandgap.py"
   ]
  },
  {
   "cell_type": "code",
   "execution_count": 25,
   "metadata": {},
   "outputs": [
    {
     "name": "stdout",
     "output_type": "stream",
     "text": [
      "Job ID                    Name             User            Time Use S Queue\r\n",
      "------------------------- ---------------- --------------- -------- - -----\r\n",
      "7473317.hnode2             gw_bandgap.py    s171629         00:29:13 C hpc            \r\n"
     ]
    }
   ],
   "source": [
    "!qstat"
   ]
  },
  {
   "cell_type": "code",
   "execution_count": 24,
   "metadata": {},
   "outputs": [
    {
     "name": "stdout",
     "output_type": "stream",
     "text": [
      "Indirect G0W0 gap:  2.457\r\n",
      "Direct G0W0 gap:    3.215\r\n"
     ]
    }
   ],
   "source": [
    "!cat bandgap/gw/gap.dat"
   ]
  },
  {
   "cell_type": "markdown",
   "metadata": {},
   "source": [
    "We can plot the band structure of the PBEsol calculation. For technical reasons, we will not plot the GLLB and the GW band structures."
   ]
  },
  {
   "cell_type": "code",
   "execution_count": 23,
   "metadata": {
    "scrolled": true
   },
   "outputs": [
    {
     "name": "stdout",
     "output_type": "stream",
     "text": [
      "Gap: 0.409 eV\n",
      "Transition (v -> c):\n",
      "  (s=0, k=0, n=15, [0.500, 0.500, 0.500]) -> (s=0, k=33, n=16, [0.000, 0.000, 0.000])\n",
      "Direct gap: 1.167 eV\n",
      "Transition at: (s=0, k=33, n=15, [0.000, 0.000, 0.000])\n"
     ]
    },
    {
     "data": {
      "image/png": "[encoded data removed]",
      "text/plain": [
       "<Figure size 432x288 with 1 Axes>"
      ]
     },
     "metadata": {
      "needs_background": "light"
     },
     "output_type": "display_data"
    }
   ],
   "source": [
    "%matplotlib inline\n",
    "from gpaw import GPAW\n",
    "from ase.dft.bandgap import bandgap\n",
    "import matplotlib.pyplot as plt\n",
    "name = 'SrGeO3'  # Your perovskite name\n",
    "calc = GPAW(f'bandgap/PBEsol/{name}_fixed_density.gpw', txt=None)\n",
    "gap = bandgap(calc)[0]\n",
    "gap_direct = bandgap(calc, direct=True)[0]\n",
    "bs = calc.band_structure()\n",
    "ax = bs.plot(show=False, emax=7, emin=-7)\n",
    "ax.set_title(('PBEsol band structure\\n'\n",
    "              'Indirect gap: {:.3f} eV, '\n",
    "              'Direct gap: {:.3f} eV').format(gap, gap_direct))\n",
    "plt.savefig('PBEsol_bandstructure.png')\n",
    "plt.show()"
   ]
  },
  {
   "cell_type": "code",
   "execution_count": null,
   "metadata": {},
   "outputs": [],
   "source": []
  }
 ],
 "metadata": {
  "kernelspec": {
   "display_name": "Python 3",
   "language": "python",
   "name": "python3"
  },
  "language_info": {
   "codemirror_mode": {
    "name": "ipython",
    "version": 3
   },
   "file_extension": ".py",
   "mimetype": "text/x-python",
   "name": "python",
   "nbconvert_exporter": "python",
   "pygments_lexer": "ipython3",
   "version": "3.6.0"
  }
 },
 "nbformat": 4,
 "nbformat_minor": 2
}
