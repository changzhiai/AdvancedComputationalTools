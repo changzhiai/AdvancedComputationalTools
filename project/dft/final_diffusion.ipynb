{
 "cells": [
  {
   "cell_type": "markdown",
   "metadata": {},
   "source": [
    "# Final Project - DFT calculations\n",
    "\n",
    "## Part 2: NEB calculations of oxygen vacancy mobility\n",
    "\n",
    "In this part, you will be calculation the oxygen vacancy mobility in your perovskite as a fuel cell cathode. We will consider two directions of diffusion in the perovskite, denoted *y* and _diag_, see the figure below.\n",
    "\n",
    "<img src=\"diffusion_directions.png\" alt=\"Drawing\" style=\"width: 200px;\"/>\n",
    "\n",
    "\n",
    "The work flow is as follows:\n",
    "- The NEB calculations will be done in a 2x2x2 repeated unit cell.\n",
    "- Create the initial image by removing an oxygen\n",
    "    - Rattle atoms randomly to break symmetries (A higher value in the .rattle() moves the atoms more)\n",
    "    - Relax. Due to the rattle, we have to relax it quite tightly.\n",
    "- Construct the _y_-direction final image\n",
    "    - Repeat same steps as for the initial image\n",
    "    - Your initial and final state images are (probably) not going to have identical energies, but they should be close. Remember to check! The difference should be no larger than 0.1 eV.\n",
    "        - If the differences for some reason become too large, try relaxing the structure with a lower fmax, or rattle the atoms less.\n",
    "- Calculate the MEP using NEB in the _y_-direction\n",
    "- Do the same for the diagonal direction\n",
    "\n",
    "**NB**: A pre-existing folder structure has already been created, so please stick to that folder structure, otherwise the scripts will not work."
   ]
  },
  {
   "cell_type": "code",
   "execution_count": 1,
   "metadata": {},
   "outputs": [
    {
     "name": "stdout",
     "output_type": "stream",
     "text": [
      "Writing init_neb_k4_PW800.py\n"
     ]
    }
   ],
   "source": [
    "%%writefile init_neb_k4_PW800.py\n",
    "from os.path import join\n",
    "from gpaw import GPAW, PW, FermiDirac\n",
    "from ase.optimize import BFGS\n",
    "from ase.parallel import paropen\n",
    "from ase.io import read\n",
    "from ase.visualize import view\n",
    "\n",
    "folder = 'neb_k4_PW800/init'\n",
    "folder = join(folder, '')  # Ensure trailing '/'\n",
    "\n",
    "#parameters\n",
    "#put here the formula of your perovskite, e.g. \"CaGeO3\"\n",
    "name = \"SrGeO3\"\n",
    "\n",
    "# The planewave cutoff, start with 600eV. \n",
    "# If you have time left when you are done with all calculation you can play around with this value to check convergence\n",
    "ecut = 800\n",
    "# Put in a number of k-points along one direction\n",
    "# The total k-point grid will be (k,k,k)  \n",
    "k = 4\n",
    "k += k%2 # round up to next even number\n",
    "\n",
    "atoms = read(f'relax/perovskite/{name}.traj')\n",
    "atoms = atoms.repeat((2, 2, 2)) # 2 x 2 x 2 unit cell\n",
    "del atoms[28]  # Make an oxygen vacancy\n",
    "\n",
    "# We need to break the symmetry due to the introduction of the vacancy\n",
    "atoms.rattle(0.05)\n",
    "\n",
    "if 0:\n",
    "    view(atoms)\n",
    "    assert False\n",
    "\n",
    "calc = GPAW(mode=PW(ecut),\n",
    "            kpts={'size': (k, k, k),'gamma': True},\n",
    "            xc='PBEsol',\n",
    "            basis='dzp',\n",
    "            txt=folder+'init.out',\n",
    "            occupations=FermiDirac(width=0.01),\n",
    "            symmetry={'point_group': False}  # Due to the rattle, we disable symmetries\n",
    "            )\n",
    "\n",
    "atoms.set_calculator(calc)\n",
    "\n",
    "# Since we rattled the atoms quite a bit, we need to relax this tightly\n",
    "BFGS(atoms, trajectory=folder+\"init.traj\",logfile=folder+\"init.log\").run(fmax=0.01)\n",
    "epot = atoms.get_potential_energy()\n",
    "\n",
    "\n",
    "with paropen(folder+'energy_init.dat', 'w') as f:\n",
    "    print(f'Energy: {epot:.3f} eV', file=f)"
   ]
  },
  {
   "cell_type": "code",
   "execution_count": 2,
   "metadata": {},
   "outputs": [
    {
     "name": "stdout",
     "output_type": "stream",
     "text": [
      "7462183.hnode2\r\n"
     ]
    }
   ],
   "source": [
    "!qsub.py -p 16 -t 48 init_neb_k4_PW800.py"
   ]
  },
  {
   "cell_type": "markdown",
   "metadata": {},
   "source": [
    "### *y*-direction"
   ]
  },
  {
   "cell_type": "code",
   "execution_count": 3,
   "metadata": {},
   "outputs": [
    {
     "name": "stdout",
     "output_type": "stream",
     "text": [
      "Writing final_y_k4_PW800.py\n"
     ]
    }
   ],
   "source": [
    "%%writefile final_y_k4_PW800.py\n",
    "from os.path import join\n",
    "from gpaw import GPAW, PW, FermiDirac\n",
    "from ase.optimize import BFGS\n",
    "from ase.parallel import paropen\n",
    "from ase.io import read\n",
    "from gpaw import setup_paths\n",
    "from ase.visualize import view\n",
    "\n",
    "\n",
    "folder = 'neb_k4_PW800/final_y'\n",
    "folder = join(folder, '')  # Ensure trailing '/'\n",
    "\n",
    "#parameters\n",
    "#put here the formula of your perovskite, e.g. \"CaGeO3\"\n",
    "name = \"SrGeO3\"\n",
    "\n",
    "# The planewave cutoff, start with 600eV. \n",
    "# If you have time left when you are done with all calculation you can play around with this value to check convergence\n",
    "ecut = 800\n",
    "# Put in a number of k-points along one direction\n",
    "# The total k-point grid will be (k,k,k)  \n",
    "k = 4\n",
    "k += k%2 # round up to next even number\n",
    "\n",
    "atoms = read(f'relax/perovskite/{name}.traj')\n",
    "atoms = atoms.repeat((2, 2, 2)) # 2 x 2 x 2 unit cell\n",
    "del atoms[38]\n",
    "\n",
    "# We need to break the symmetry due to the introduction of the vacancy\n",
    "atoms.rattle(0.05)\n",
    "\n",
    "if 0:\n",
    "    view(atoms)\n",
    "    assert False\n",
    "\n",
    "calc = GPAW(mode=PW(ecut),\n",
    "            kpts={'size': (k, k, k),'gamma': True},\n",
    "            xc='PBEsol',\n",
    "            basis='dzp',\n",
    "            txt=folder+'final_y.out',\n",
    "            occupations=FermiDirac(width=0.01),\n",
    "            symmetry={'point_group': False}  # Due to the rattle, we disable symmetries\n",
    "            )\n",
    "\n",
    "atoms.set_calculator(calc)\n",
    "\n",
    "# Since we rattled the atoms quite a bit, we need to relax this tightly\n",
    "BFGS(atoms, trajectory=folder+\"final_y.traj\",logfile=folder+\"final_y.log\").run(fmax=0.01)\n",
    "epot = atoms.get_potential_energy()\n",
    "\n",
    "with paropen(folder+'energy_y.dat', 'w') as f:\n",
    "    print(f'Energy: {epot:.3f} eV', file=f)"
   ]
  },
  {
   "cell_type": "code",
   "execution_count": 4,
   "metadata": {},
   "outputs": [
    {
     "name": "stdout",
     "output_type": "stream",
     "text": [
      "7462184.hnode2\r\n"
     ]
    }
   ],
   "source": [
    "!qsub.py -p 16 -t 48 final_y_k4_PW800.py"
   ]
  },
  {
   "cell_type": "markdown",
   "metadata": {},
   "source": [
    "Once you have constructed the initial and final images in the y-direction, we construct the path, and ensure that it looks reasonable.\n",
    "\n",
    "**Remember to check that your path looks reasonable!**\n",
    "\n",
    "Note: The below code should _not_ be submitted, but you can just run it directly."
   ]
  },
  {
   "cell_type": "code",
   "execution_count": 1,
   "metadata": {},
   "outputs": [],
   "source": [
    "from os.path import join\n",
    "from ase.io import read, write\n",
    "from ase import Atoms\n",
    "from ase.visualize import view\n",
    "from ase.neb import NEB\n",
    "\n",
    "folder = 'neb_k4_PW800/neb_y'\n",
    "folder = join(folder, '')\n",
    "\n",
    "# Read initial and final states:\n",
    "initial = read('neb_k4_PW800/init/init.traj')\n",
    "final = read('neb_k4_PW800/final_y/final_y.traj')\n",
    "\n",
    "# Make a band consisting of n images:\n",
    "n = 7\n",
    "m = n-2 # number of intermediate images\n",
    "\n",
    "# Ensure that atom indices match\n",
    "f_temp = final.copy()\n",
    "new = Atoms()\n",
    "new.set_cell(final.get_cell())\n",
    "new.set_pbc(True)\n",
    "for a in range(28):\n",
    "    new.append(final[a])\n",
    "for i in range(28, 37):\n",
    "    new.append(final[i+1])\n",
    "new.append(final[28])\n",
    "for i in range(38, len(final)):\n",
    "    new.append(final[i])\n",
    "final = new.copy()\n",
    "images = [initial]\n",
    "images += [initial.copy() for i in range(m)]\n",
    "images += [final]\n",
    "\n",
    "neb = NEB(images)\n",
    "neb.interpolate()\n",
    "\n",
    "view(images)\n",
    "\n",
    "# Write the path we constructed to be used by the NEB\n",
    "write(folder+'initial_path.traj', images)"
   ]
  },
  {
   "cell_type": "code",
   "execution_count": 2,
   "metadata": {},
   "outputs": [
    {
     "name": "stdout",
     "output_type": "stream",
     "text": [
      "Writing neb_y_k4_PW800.py\n"
     ]
    }
   ],
   "source": [
    "%%writefile neb_y_k4_PW800.py\n",
    "from os.path import join\n",
    "from gpaw import GPAW, PW, FermiDirac\n",
    "from ase.optimize import FIRE\n",
    "from ase.parallel import paropen\n",
    "from ase.io import read\n",
    "from ase.visualize import view\n",
    "from ase.neb import NEB\n",
    "\n",
    "folder = 'neb_k4_PW800/neb_y'\n",
    "folder = join(folder, '')  # Ensure trailing '/'\n",
    "\n",
    "#parameters\n",
    "#put here the formula of your perovskite, e.g. \"CaGeO3\"\n",
    "name = \"SrGeO3\"\n",
    "# The planewave cutoff, start with 600eV. \n",
    "# If you have time left when you are done with all calculation you can play around with this value to check convergence\n",
    "ecut = 800\n",
    "# Put in a number of k-points along one direction\n",
    "# The total k-point grid will be (k,k,k)  \n",
    "k = 4\n",
    "k += k%2 # round up to next even number\n",
    "\n",
    "# load the path we wrote\n",
    "images = read(folder+'initial_path.traj', index=':')\n",
    "\n",
    "n = len(images)\n",
    "m = n-2  # number of intermediate images\n",
    "t = n-1\n",
    "\n",
    "calc_final = GPAW(mode=PW(ecut),\n",
    "                  kpts={'size': (k, k, k),'gamma': True},\n",
    "                  xc='PBEsol',\n",
    "                  basis='dzp',\n",
    "                  txt=folder+'final.out',\n",
    "                  #symmetry={'point_group':False}, # Use this if you get the 'symmetry broken' error\n",
    "                  occupations=FermiDirac(width=0.01))\n",
    "\n",
    "images[-1].set_calculator(calc_final)\n",
    "images[-1].get_forces()  # Run the final image, so we get the energies again\n",
    "\n",
    "neb = NEB(images)\n",
    "\n",
    "# Set calculator:\n",
    "for ii in range(1, t):\n",
    "    image = images[ii]\n",
    "    calc = GPAW(mode=PW(ecut),\n",
    "            kpts={'size': (k,k,k),'gamma': True},\n",
    "            xc='PBEsol',\n",
    "            basis='dzp',\n",
    "            txt=folder+f'neb-{ii}.out',\n",
    "            #symmetry={'point_group':False}, #use this if you get the 'symmetry broken' error\n",
    "            occupations=FermiDirac(width=0.01))\n",
    "    image.set_calculator(calc)\n",
    "\n",
    "optimizer = FIRE(neb, trajectory=folder+'neb.traj', logfile=folder+'neb.log')\n",
    "optimizer.run(fmax=0.1)  # Do a course relaxation with regular NEB\n",
    "\n",
    "# Switch on climbing image\n",
    "cineb = NEB(images, climb=True)\n",
    "optimizer = FIRE(cineb, trajectory=folder+'ci-neb.traj', logfile=folder+'ci-neb.log')\n",
    "optimizer.run(fmax=0.05)"
   ]
  },
  {
   "cell_type": "code",
   "execution_count": 3,
   "metadata": {},
   "outputs": [
    {
     "name": "stdout",
     "output_type": "stream",
     "text": [
      "7465970.hnode2\r\n"
     ]
    }
   ],
   "source": [
    "!qsub.py -p 16 -t 96 neb_y_k4_PW800.py"
   ]
  },
  {
   "cell_type": "code",
   "execution_count": 4,
   "metadata": {},
   "outputs": [
    {
     "name": "stdout",
     "output_type": "stream",
     "text": [
      "Job ID                    Name             User            Time Use S Queue\r\n",
      "------------------------- ---------------- --------------- -------- - -----\r\n",
      "7465970.hnode2             ...y_k4_PW800.py s171629                0 R hpc            \r\n"
     ]
    }
   ],
   "source": [
    "!qstat"
   ]
  },
  {
   "cell_type": "code",
   "execution_count": null,
   "metadata": {},
   "outputs": [],
   "source": [
    "!ase gui neb_k6_PW800/neb_y/neb.traj@-7:"
   ]
  },
  {
   "cell_type": "markdown",
   "metadata": {},
   "source": [
    "### Diagonal direction\n",
    "We now construct the final image in the diagonal direction."
   ]
  },
  {
   "cell_type": "code",
   "execution_count": 5,
   "metadata": {},
   "outputs": [
    {
     "name": "stdout",
     "output_type": "stream",
     "text": [
      "Writing final_diag_k4_PW800.py\n"
     ]
    }
   ],
   "source": [
    "%%writefile final_diag_k4_PW800.py\n",
    "from os.path import join\n",
    "from gpaw import GPAW, PW, FermiDirac\n",
    "from ase.optimize import BFGS\n",
    "from ase.parallel import paropen\n",
    "from ase.io import read\n",
    "\n",
    "folder = 'neb_k4_PW800/final_diag'\n",
    "folder = join(folder, '')  # Ensure trailing '/'\n",
    "\n",
    "#parameters\n",
    "#put here the formula of your perovskite, e.g. \"CaGeO3\"\n",
    "name = \"SrGeO3\"\n",
    "\n",
    "# The planewave cutoff, start with 600eV. \n",
    "# If you have time left when you are done with all calculation you can play around with this value to check convergence\n",
    "ecut = 800\n",
    "# Put in a number of k-points along one direction\n",
    "# The total k-point grid will be (k,k,k)  \n",
    "k = 4\n",
    "k += k%2 # round up to next even number\n",
    "\n",
    "atoms = read(f'relax/perovskite/{name}.traj')\n",
    "atoms = atoms.repeat((2, 2, 2)) # 2 x 2 x 2 unit cell\n",
    "del atoms[19]\n",
    "\n",
    "# We need to break the symmetry due to the introduction of the vacancy\n",
    "atoms.rattle(0.05)\n",
    "\n",
    "if 0:\n",
    "    view(atoms)\n",
    "    assert False\n",
    "\n",
    "calc = GPAW(mode=PW(ecut),\n",
    "            kpts={'size': (k, k, k),'gamma': True},\n",
    "            xc='PBEsol',\n",
    "            basis='dzp',\n",
    "            txt=folder+'final_diag.out',\n",
    "            occupations=FermiDirac(width=0.01),\n",
    "            symmetry={'point_group': False}  # Due to the rattle, we disable symmetries\n",
    "            )\n",
    "\n",
    "atoms.set_calculator(calc)\n",
    "\n",
    "# Since we rattled the atoms quite a bit, we need to relax this tightly\n",
    "BFGS(atoms, trajectory=folder+\"final_diag.traj\",logfile=folder+\"final_diag.log\").run(fmax=0.01)\n",
    "epot = atoms.get_potential_energy()\n",
    "\n",
    "with paropen(folder+'energy_y.dat', 'w') as f:\n",
    "    print(f'Energy: {epot:.3f} eV', file=f)"
   ]
  },
  {
   "cell_type": "code",
   "execution_count": 6,
   "metadata": {},
   "outputs": [
    {
     "name": "stdout",
     "output_type": "stream",
     "text": [
      "7462185.hnode2\r\n"
     ]
    }
   ],
   "source": [
    "!qsub.py -p 16 -t 48 final_diag_k4_PW800.py"
   ]
  },
  {
   "cell_type": "markdown",
   "metadata": {},
   "source": [
    "Once again, once you have constructed the initial and final images in the diagonal direction, we construct the path, and ensure that it looks reasonable.\n",
    "\n",
    "**Remember to check that your path looks reasonable!**\n",
    "\n",
    "Note: The below code should _not_ be submitted, but you can just run it directly."
   ]
  },
  {
   "cell_type": "code",
   "execution_count": 5,
   "metadata": {},
   "outputs": [],
   "source": [
    "from os.path import join\n",
    "from ase.io import read, write\n",
    "from ase import Atoms\n",
    "from ase.visualize import view\n",
    "from ase.neb import NEB\n",
    "\n",
    "folder = 'neb_k4_PW800/neb_diag'\n",
    "folder = join(folder, '')\n",
    "\n",
    "# Read initial and final states:\n",
    "initial = read('neb_k4_PW800/init/init.traj')\n",
    "final = read('neb_k4_PW800/final_diag/final_diag.traj')\n",
    "\n",
    "# Make a band consisting of n images:\n",
    "n = 7\n",
    "m = n-2 # number of intermediate images\n",
    "\n",
    "f_temp = final.copy()\n",
    "new = Atoms()\n",
    "new.set_cell(final.get_cell())\n",
    "new.set_pbc(True)\n",
    "for a in range(19):\n",
    "    new.append(final[a])\n",
    "new.append(final[27])\n",
    "for i in range(19, 27):\n",
    "    new.append(final[i])\n",
    "for i in range(28,len(final)):\n",
    "    new.append(final[i])\n",
    "final = new.copy()\n",
    "\n",
    "images = [initial]\n",
    "images += [initial.copy() for i in range(m)]\n",
    "images += [final]\n",
    "\n",
    "neb = NEB(images)\n",
    "neb.interpolate()\n",
    "\n",
    "view(images)\n",
    "\n",
    "# Write the path we constructed to be used by the NEB\n",
    "write(folder+'initial_path.traj', images)"
   ]
  },
  {
   "cell_type": "code",
   "execution_count": 2,
   "metadata": {},
   "outputs": [
    {
     "name": "stdout",
     "output_type": "stream",
     "text": [
      "/zhome/76/c/124557/energytools18/final_project/DFT\r\n"
     ]
    }
   ],
   "source": [
    "!pwd"
   ]
  },
  {
   "cell_type": "code",
   "execution_count": null,
   "metadata": {},
   "outputs": [],
   "source": [
    "!ase gui /zhome/76/c/124557/energytools18/final_project/DFT/neb/neb_diag/initial_path.traj"
   ]
  },
  {
   "cell_type": "code",
   "execution_count": 6,
   "metadata": {},
   "outputs": [
    {
     "name": "stdout",
     "output_type": "stream",
     "text": [
      "Writing neb_diag_k4_PW800.py\n"
     ]
    }
   ],
   "source": [
    "%%writefile neb_diag_k4_PW800.py\n",
    "from os.path import join\n",
    "from gpaw import GPAW, PW, FermiDirac\n",
    "from ase.optimize import FIRE\n",
    "from ase.parallel import paropen\n",
    "from ase.io import read\n",
    "from ase.neb import NEB\n",
    "\n",
    "folder = 'neb_k4_PW800/neb_diag'\n",
    "folder = join(folder, '')  # Ensure trailing '/'\n",
    "\n",
    "#parameters\n",
    "#put here the formula of your perovskite, e.g. \"CaGeO3\"\n",
    "name = \"SrGeO3\"\n",
    "# The planewave cutoff, start with 600eV. \n",
    "# If you have time left when you are done with all calculation you can play around with this value to check convergence\n",
    "ecut = 800\n",
    "# Put in a number of k-points along one direction\n",
    "# The total k-point grid will be (k,k,k)  \n",
    "k = 4\n",
    "k += k%2 # round up to next even number\n",
    "\n",
    "# load the path we wrote\n",
    "images = read(folder+'initial_path.traj', index=':')\n",
    "n = len(images)\n",
    "m = n-2  # number of intermediate images\n",
    "t = n-1\n",
    "\n",
    "calc_final = GPAW(mode=PW(ecut),\n",
    "                  kpts={'size': (k, k, k),'gamma': True},\n",
    "                  xc='PBEsol',\n",
    "                  basis='dzp',\n",
    "                  txt=folder+'final.out',\n",
    "                  #symmetry={'point_group':False}, # Use this if you get the 'symmetry broken' error\n",
    "                  occupations=FermiDirac(width=0.01))\n",
    "images[-1].set_calculator(calc_final)\n",
    "images[-1].get_forces()  # Run the final image, so we get the energies again\n",
    "\n",
    "neb = NEB(images)\n",
    "\n",
    "# Set calculator:\n",
    "for ii in range(1, t):\n",
    "    image = images[ii]\n",
    "    calc = GPAW(mode=PW(ecut),\n",
    "            kpts={'size': (k, k, k),'gamma': True},\n",
    "            xc='PBEsol',\n",
    "            basis='dzp',\n",
    "            txt=folder+f'neb-{ii}.out',\n",
    "            #symmetry={'point_group':False}, #use this if you get the 'symmetry broken' error\n",
    "            occupations=FermiDirac(width=0.01))\n",
    "    image.set_calculator(calc)\n",
    "\n",
    "optimizer = FIRE(neb, trajectory=folder+'neb.traj', logfile=folder+'neb.log')\n",
    "optimizer.run(fmax=0.1)  # Do a course relaxation with regular NEB\n",
    "\n",
    "# Switch on climbing image\n",
    "cineb = NEB(images, climb=True)\n",
    "optimizer = FIRE(cineb, trajectory=folder+'ci-neb.traj', logfile=folder+'ci-neb.log')\n",
    "optimizer.run(fmax=0.05)"
   ]
  },
  {
   "cell_type": "code",
   "execution_count": 7,
   "metadata": {},
   "outputs": [
    {
     "name": "stdout",
     "output_type": "stream",
     "text": [
      "7465972.hnode2\r\n"
     ]
    }
   ],
   "source": [
    "!qsub.py -p 16 -t 96 neb_diag_k4_PW800.py"
   ]
  },
  {
   "cell_type": "code",
   "execution_count": 8,
   "metadata": {},
   "outputs": [
    {
     "name": "stdout",
     "output_type": "stream",
     "text": [
      "Job ID                    Name             User            Time Use S Queue\r\n",
      "------------------------- ---------------- --------------- -------- - -----\r\n",
      "7465970.hnode2             ...y_k4_PW800.py s171629                0 R hpc            \r\n",
      "7465972.hnode2             ...g_k4_PW800.py s171629                0 R hpc            \r\n"
     ]
    }
   ],
   "source": [
    "!qstat"
   ]
  },
  {
   "cell_type": "code",
   "execution_count": 3,
   "metadata": {},
   "outputs": [],
   "source": [
    "!ase gui neb/neb_diag/ci-neb.traj@-7:"
   ]
  },
  {
   "cell_type": "code",
   "execution_count": null,
   "metadata": {},
   "outputs": [],
   "source": []
  }
 ],
 "metadata": {
  "kernelspec": {
   "display_name": "Python 3",
   "language": "python",
   "name": "python3"
  },
  "language_info": {
   "codemirror_mode": {
    "name": "ipython",
    "version": 3
   },
   "file_extension": ".py",
   "mimetype": "text/x-python",
   "name": "python",
   "nbconvert_exporter": "python",
   "pygments_lexer": "ipython3",
   "version": "3.6.0"
  }
 },
 "nbformat": 4,
 "nbformat_minor": 2
}
