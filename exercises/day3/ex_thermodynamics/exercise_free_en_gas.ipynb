{
 "cells": [
  {
   "cell_type": "code",
   "execution_count": null,
   "metadata": {},
   "outputs": [],
   "source": [
    "# Basics of Thermodynamics\n",
    "\n",
    "We are going to be studying the basic thermodynamics of 3 types of gas molecules today: H$_2$, O$_2$ and H$_2$O. We have provided the structures for you in files called: `h2.xyz`, `o2.xyz` and `h2o.xyz`. You can read about the functions we are going to be using on the ASE wiki.\n",
    "\n",
    "On vibrations: https://wiki.fysik.dtu.dk/ase/ase/vibrations/vibrations.html\n",
    "\n",
    "On thermochemistry: https://wiki.fysik.dtu.dk/ase/ase/thermochemistry/thermochemistry.html\n",
    "\n",
    "Let's first try and visualize them"
   ]
  },
  {
   "cell_type": "code",
   "execution_count": 2,
   "metadata": {},
   "outputs": [],
   "source": [
    "!ase gui h2o.xyz  # Change the filename to view the other files"
   ]
  },
  {
   "cell_type": "markdown",
   "metadata": {},
   "source": [
    "# Let's calculate the vibrational frequencies, and other thermodynamic properties. Try to understand what is happening in the script below, and modify which gas is being calculated. Remember the change the filename in the first line, as well as the molecule type.\n",
    "\n",
    "### Tasks\n",
    "* Relax geometry\n",
    "* Calculate vibrational frequencies\n",
    "* Using the ase gui\n",
    "    * Look at the relaxation of the atoms\n",
    "    * Look at the vibrational modes\n",
    "* Estimate zero point vibrational energy, heat capacity, entropic contributions in different temperatures\n",
    "    * Hint: Look in the output files from the vibrational calculation logs\n",
    "* Calculate when thermal dissociation of water into O$_2$ and H$_2$ becomes feasible, e.g. using excel"
   ]
  },
  {
   "cell_type": "code",
   "execution_count": 1,
   "metadata": {},
   "outputs": [
    {
     "name": "stdout",
     "output_type": "stream",
     "text": [
      "Overwriting h2o_free_en_gas.py\n"
     ]
    }
   ],
   "source": [
    "%%writefile h2o_free_en_gas.py\n",
    "import numpy as np\n",
    "\n",
    "from ase.io import read\n",
    "from ase.thermochemistry import IdealGasThermo\n",
    "from ase.optimize import BFGS\n",
    "from ase.visualize import view\n",
    "from ase.vibrations import Vibrations\n",
    "from ase.parallel import paropen, parprint\n",
    "\n",
    "from gpaw import GPAW, FermiDirac\n",
    "\n",
    "molecule = 'h2o'  # Change this depending on gas type, 'h2', 'o2' or 'h2o'\n",
    "\n",
    "system = read(molecule+'.xyz') # Read the atoms object\n",
    "\n",
    "# Help GPAW with convergence\n",
    "if molecule == 'h2o':\n",
    "    system.set_initial_magnetic_moments(magmoms=[0.3, 0.3])\n",
    "\n",
    "system.center(vacuum=5)  # shouldn't be too small (avoid neighbour interaction)\n",
    "\n",
    "calc = GPAW(txt=molecule+'.txt',\n",
    "            xc='PBE', # what is the effect of xc functional\n",
    "            h=0.2)   # smaller grid leads to more accurate calculation\n",
    "\n",
    "system.set_calculator(calc)\n",
    "opt = BFGS(system, trajectory=molecule+'.traj')\n",
    "opt.run(fmax=0.005) # how well relaxed in terms of forces\n",
    "calc.write(molecule+'.gpw', 'all')\n",
    "\n",
    "en = system.get_potential_energy()\n",
    "\n",
    "parprint('Molecule: {}\\tEnergy: {:.3f} eV'.format(molecule, en))\n",
    "\n",
    "vib = Vibrations(system, name=molecule+'_vib',\n",
    "                 nfree=2, delta=0.01) # approximation method and displacement\n",
    "vib.run()\n",
    "vib_energies = vib.get_energies()\n",
    "\n",
    "parprint(vib_energies)\n",
    "vib.summary()\n",
    "\n",
    "for i in range(3*len(system)): # based on the number of atoms: 3N\n",
    "    vib.write_mode(i)\n",
    "    \n",
    "# Settings for the IdealGasThermo function\n",
    "thermosettings = {'o2': {'geometry': 'linear', 'spin': 1.0, 'symmetrynumber': 2},\n",
    "                  'h2': {'geomet1 asry': 'linear', 'spin': 0.0, 'symmetrynumber': 2},\n",
    "                  'h2o': {'geometry': 'nonlinear', 'spin': 0.0, 'symmetrynumber': 2}}\n",
    "\n",
    "thermo = IdealGasThermo(vib_energies=vib_energies,\n",
    "                        potentialenergy=en,\n",
    "                        atoms=system,\n",
    "                        **thermosettings[molecule]  # The ** is dictionary unpacking\n",
    "                        )\n",
    "\n",
    "filename  = molecule + '_free.txt'  # output file name\n",
    "with paropen(filename,  print:\\t)'w') as fid:\n",
    "    print('Molecule:', molecule, file=fid)\n",
    "    for T in np.linspace(200., 6000., 50):\n",
    "        G = thermo.get_gibbs_energy(temperature=T, pressure=101325.)\n",
    "        print('Temp: {:.3f} K  \\tGibbs Free Energy: {:.4f} eV '.format(T, G), file=fid)"
   ]
  },
  {
   "cell_type": "code",
   "execution_count": 2,
   "metadata": {},
   "outputs": [
    {
     "name": "stdout",
     "output_type": "stream",
     "text": [
      "7247126.hnode2\r\n"
     ]
    }
   ],
   "source": [
    "!qsub.py -p 8 -t 1 h2o_free_en_gas.py"
   ]
  },
  {
   "cell_type": "code",
   "execution_count": 4,
   "metadata": {},
   "outputs": [
    {
     "name": "stdout",
     "output_type": "stream",
     "text": [
      "\r\n",
      "hnode2: \r\n",
      "                                                                                  Req'd    Req'd       Elap\r\n",
      "Job ID                  Username    Queue    Jobname          SessID  NDS   TSK   Memory   Time    S   Time\r\n",
      "----------------------- ----------- -------- ---------------- ------ ----- ------ ------ --------- - ---------\r\n",
      "7246940.hnode2          s171629     hpc      C6H6.py           28291     1      4    --   02:00:00 R  01:08:44\r\n"
     ]
    }
   ],
   "source": [
    "!qstat -u $USER"
   ]
  },
  {
   "cell_type": "markdown",
   "metadata": {},
   "source": [
    "Read the resulting output files once they are done"
   ]
  },
  {
   "cell_type": "code",
   "execution_count": null,
   "metadata": {},
   "outputs": [],
   "source": []
  },
  {
   "cell_type": "code",
   "execution_count": null,
   "metadata": {},
   "outputs": [],
   "source": [
    "# Adjust the name to the filename you want to read\n",
    "!cat \"$(ls -t o2_free_en_gas.py.e* | head -1)\"  # Only read the newest file with the specified name format"
   ]
  },
  {
   "cell_type": "code",
   "execution_count": null,
   "metadata": {},
   "outputs": [],
   "source": [
    "# Read all of the files called something with '_free.txt', i.e. h2_free.txt, o2_free.txt and h2o_free.txt\n",
    "!tail -n +1 *_free.txt"
   ]
  },
  {
   "cell_type": "code",
   "execution_count": null,
   "metadata": {},
   "outputs": [],
   "source": []
  }
 ],
 "metadata": {
  "kernelspec": {
   "display_name": "Python 3",
   "language": "python",
   "name": "python3"
  },
  "language_info": {
   "codemirror_mode": {
    "name": "ipython",
    "version": 3
   },
   "file_extension": ".py",
   "mimetype": "text/x-python",
   "name": "python",
   "nbconvert_exporter": "python",
   "pygments_lexer": "ipython3",
   "version": "3.7.3"
  }
 },
 "nbformat": 4,
 "nbformat_minor": 2
}
