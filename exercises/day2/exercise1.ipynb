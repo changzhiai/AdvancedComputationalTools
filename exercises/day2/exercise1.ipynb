{
 "cells": [
  {
   "cell_type": "markdown",
   "metadata": {},
   "source": [
    "# Predicting crystal structures with DFT\n",
    "\n",
    "Today we will be trying to predict the bulk crystal structures of iron and titanium using DFT. Questions we will try to answer are\n",
    "* Can DFT predict this?\n",
    "* How close can we get to exerperimental lattice values?\n",
    "\n",
    "And if you have time:\n",
    "* How do calculation parameters affect our results? (E.g. planewave cutoff, k-point sampling, XC-functional, etc.)\n",
    "\n",
    "You can read more about bulk crystal structures at https://en.wikipedia.org/wiki/Periodic_table_%28crystal_structure%29 and try to validate your results to what is reported there.\n",
    "\n",
    "These calculations will be too expensive to run locally, so we will use the queue system to run the calculations for us.\n",
    "\n",
    "Do the calculations for the following elements:\n",
    "\n",
    "* Iron\n",
    "* Titanium\n",
    "* Aluminium"
   ]
  },
  {
   "cell_type": "code",
   "execution_count": 1,
   "metadata": {},
   "outputs": [
    {
     "name": "stdout",
     "output_type": "stream",
     "text": [
      "Overwriting Fe_bcc.py\n"
     ]
    }
   ],
   "source": [
    "%%writefile Fe_bcc.py\n",
    "import numpy as np\n",
    "from ase import Atoms\n",
    "from ase.optimize import BFGS\n",
    "from ase.constraints import StrainFilter\n",
    "from ase.io import read, write, Trajectory\n",
    "from ase.visualize import view\n",
    "from ase.build import bulk\n",
    "from ase.parallel import paropen as open\n",
    "from gpaw import GPAW, PW\n",
    "from gpaw.eigensolvers import RMMDIIS\n",
    "\n",
    "element  = 'Fe'      # Element we are calculating\n",
    "crystal  = 'bcc'     # Crystal structure we are testing. Options are 'hcp', 'fcc' and 'bcc'\n",
    "a        = 2.87      # Initial guess for lattice constant\n",
    "cutoff   = 500       # Plane-wave cutoff (we may need more for better accuracy)\n",
    "xcfunc   = 'PBE'     # Exchange-correlation functional (what if we take LDA?)\n",
    "Qspinpol = True      # Spin-polarized system?\n",
    "\n",
    "\n",
    "# k-point sampling\n",
    "# Rule of thumb for k-point sampling:\n",
    "#   https://wiki.fysik.dtu.dk/gpaw/exercises/surface/surface.html ('Hint' section)\n",
    "# You can specify a particular grid, or use a density of kpts, see\n",
    "#   https://wiki.fysik.dtu.dk/gpaw/documentation/manual.html#brillouin-zone-sampling\n",
    "\n",
    "# We will use a density here, as it is simpler to configure.\n",
    "# Read the output file from GPAW to see the Monkhorst-Pack grid.\n",
    "kpts = {'density': 2.5, 'gamma': True}\n",
    "\n",
    "outfile = '{}_{}'.format(element, crystal)\n",
    "\n",
    "atoms = bulk(element, crystalstructure=crystal, a=a, cubic=True)\n",
    "\n",
    "if element == 'Fe':\n",
    "    # We know iron has magnetic properties, so we can assist GPAW by giving it a reasonable initial guess\n",
    "    m0 = 1.5  # Guess for initial magnetic moment for all atoms\n",
    "else:\n",
    "    m0 = 0.\n",
    "    \n",
    "magmoms = m0 + np.zeros(len(atoms))\n",
    "atoms.set_initial_magnetic_moments(magmoms=magmoms)\n",
    "\n",
    "calc = GPAW(xc=xcfunc,\n",
    "            maxiter=600,\n",
    "            eigensolver=RMMDIIS(5),\n",
    "            mode=PW(cutoff),\n",
    "            spinpol=Qspinpol,\n",
    "            kpts=kpts)\n",
    "\n",
    "atoms.set_calculator(calc)\n",
    "\n",
    "sf = StrainFilter(atoms)\n",
    "opt = BFGS(sf)\n",
    "traj = Trajectory(outfile+'.traj', 'w', atoms)\n",
    "opt.attach(traj)\n",
    "opt.run(0.03)\n",
    "\n",
    "epot = atoms.get_potential_energy() / len(atoms)  # Get the energy per atom\n",
    "\n",
    "# Calculate length of the lattice parameters a, b and c.\n",
    "alp, blp, clp = np.linalg.norm(atoms.get_cell(), axis=1)\n",
    "\n",
    "# Filename to which we will print summarizing information about this calculation.\n",
    "enfile = outfile + '_energy.txt'\n",
    "\n",
    "# Remember to use \"paropen\" or \"parprint\" when doing parallel calculations\n",
    "with paropen(enfile, 'a') as f1:\n",
    "    print('Element:                             {}'.format(element), file=f1)\n",
    "    print('Crystal structure:                   {}'.format(crystal), file=f1)\n",
    "    print('Lattice parameter a:                 {:.3f} Å'.format(alp), file=f1)\n",
    "    print('Lattice parameter c:                 {:.3f} Å'.format(clp), file=f1)\n",
    "    print('Exchange-correlation functional:     {}'.format(xcfunc), file=f1)\n",
    "    print('Plane-wave cutoff:                   {:d}'.format(cutoff), file=f1)\n",
    "    print('Energy per atom:                     {:.3f} eV'.format(epot), file=f1)\n",
    "    print('Total number of k-points:            {}'.format(len(calc.get_bz_k_points())), file=f1)\n",
    "    print('', file=f1)"
   ]
  },
  {
   "cell_type": "markdown",
   "metadata": {},
   "source": [
    "Uncomment the line `#%%writefile Fe_bcc.py` in the top of the cell above to write a file called `Fe_bcc.py`. We will need that to submit the file to the queue in the next cell. The `%%writefile` command just simply writes a copy of the cell to a new file on the disk.\n",
    "\n",
    "Let's submit the job to the queue. Remember to adjust the name of the script you are submitting."
   ]
  },
  {
   "cell_type": "code",
   "execution_count": 5,
   "metadata": {},
   "outputs": [
    {
     "name": "stdout",
     "output_type": "stream",
     "text": [
      "bsub info: Job has no name! Setting it to NONAME!\n",
      "bsub info: Job has no wall-clock time! Setting it to 15 minutes!\n",
      "bsub info: Job has no output file! Setting it to NONAME_%J.out!\n",
      "bsub info: Job has no memory requirements! Setting it to 1024 MB!\n",
      "bsub info:   You need to specify at least -R \"rusage[mem=...]\"!\n",
      "Job <7905211> is submitted to default queue <hpc>.\n"
     ]
    }
   ],
   "source": [
    "#!qsub.py -p 4 -t 1 Fe_bcc.py  # submits the calculation to 8 cores, 1 hour\n",
    "#!bsub < Fe_bcc.py"
   ]
  },
  {
   "cell_type": "markdown",
   "metadata": {},
   "source": [
    "Now try changing the element and try crystal structure. Remember the rename the file you write, and the name of the file you submit.\n",
    "\n",
    "We can look in our queue as follows:"
   ]
  },
  {
   "cell_type": "code",
   "execution_count": 6,
   "metadata": {},
   "outputs": [
    {
     "name": "stdout",
     "output_type": "stream",
     "text": [
      "JOBID      USER    QUEUE      JOB_NAME   NALLOC STAT  START_TIME      ELAPSED\r\n",
      "7905211    tipapa  hpc        NONAME          0 PEND       -          0:00:00\r\n"
     ]
    }
   ],
   "source": [
    "#!qstat -u $USER\n",
    "#!bstat"
   ]
  },
  {
   "cell_type": "markdown",
   "metadata": {},
   "source": [
    "Once your calculations begin, we can look at the error and output logs from the calculation with the following commands. Remember to adjust the name of the python file to the logs you want to look at."
   ]
  },
  {
   "cell_type": "code",
   "execution_count": 4,
   "metadata": {},
   "outputs": [],
   "source": [
    "# Error log\n",
    "!gedit \"$(ls -t Fe_bcc.py.e* | head -1)\""
   ]
  },
  {
   "cell_type": "code",
   "execution_count": 21,
   "metadata": {},
   "outputs": [],
   "source": [
    " # Output\n",
    "!gedit \"$(ls -t Fe_bcc.py.o* | head -1)\""
   ]
  },
  {
   "cell_type": "markdown",
   "metadata": {},
   "source": [
    "We can take a look in all of the final output files we have written with the following command: (The command will fail, if none of the calculations have finnished yet, so be patient)"
   ]
  },
  {
   "cell_type": "code",
   "execution_count": 8,
   "metadata": {},
   "outputs": [
    {
     "name": "stdout",
     "output_type": "stream",
     "text": [
      "cat: *_energy.txt: No such file or directory\r\n"
     ]
    }
   ],
   "source": [
    "!cat *_energy.txt"
   ]
  },
  {
   "cell_type": "markdown",
   "metadata": {},
   "source": [
    "Identify which crystal structure Fe and Ti prefers to be in. Does it agree with what we know experimentally?\n",
    "\n",
    "Now let's try and make some modifications to the script, and get a better understanding of our parameters\n",
    "* Change plane-wave cutoff\n",
    " * 300, 500 and 800 eV\n",
    "* Increase/decrease the k-point mesh\n",
    "* Change XC functional\n",
    " * LDA\n",
    "* For which metals do we need to do spin-polarized calculations?\n",
    "* What if we remove magnetism in iron?\n",
    "\n",
    "A suggestion is to modify file names, so that you can more easily distinguish between different calculations. For example, you could modify the variable `enfile` in the script we made above to include information about the `xcfunc`, so you don't overwrite old files - although, the file is opened in \"append\" mode, so it will add new information to the end of the file instead of overwriting it in this case, however it is good practice to use different file names so you can distinguish between different settings.\n",
    "\n",
    "If you have time, try using the BEEF-vdW functional. It will take longer than the LDA and PBE functionals, so do those first.\n",
    "\n",
    "# Setting up a surface\n",
    "\n",
    "Now try to set up the following surfaces, for an element of your choice, with the lattice parameters you calculated from the previous exercise:\n",
    "\n",
    "* (111) surface in FCC lattice\n",
    "* (110) surface in BCC lattice\n",
    "* (0001) surface in HCP lattice\n",
    "\n",
    "Remember to visualize your surfaces. Inspiration can be found at https://wiki.fysik.dtu.dk/ase/ase/build/surface.html"
   ]
  },
  {
   "cell_type": "code",
   "execution_count": null,
   "metadata": {},
   "outputs": [],
   "source": []
  }
 ],
 "metadata": {
  "kernelspec": {
   "display_name": "Python 3",
   "language": "python",
   "name": "python3"
  },
  "language_info": {
   "codemirror_mode": {
    "name": "ipython",
    "version": 3
   },
   "file_extension": ".py",
   "mimetype": "text/x-python",
   "name": "python",
   "nbconvert_exporter": "python",
   "pygments_lexer": "ipython3",
   "version": "3.7.3"
  }
 },
 "nbformat": 4,
 "nbformat_minor": 2
}
