{
 "cells": [
  {
   "cell_type": "markdown",
   "metadata": {},
   "source": [
    "# A Simple Introduction to Python\n",
    "by Alexander S. Tygesen, DTU Energy\n",
    "\n",
    "Why do we use Python?\n",
    "\n",
    "* Interpreted language\n",
    "* Excellent for scripting\n",
    "* ___simple___\n",
    "* Does not use {} all over the place\n",
    "\n",
    "It differs a lot from \"standard\" programming languages like C and Java.\n",
    "\n",
    "We will not need to dive too deep into Python, but here we will only go through some of the basics to get started. Many things can be found on Google!\n",
    "\n",
    "I think the best way to learn Python, is just to do it, and see what happens.\n",
    "\n",
    "Note, that cells are executed using `shift+enter`.\n",
    "\n",
    "### Learning by doing\n",
    "\n",
    "As any good programmer would, let's start by printing out \"Hello World\""
   ]
  },
  {
   "cell_type": "code",
   "execution_count": null,
   "metadata": {},
   "outputs": [],
   "source": [
    "print('Hello World')"
   ]
  },
  {
   "cell_type": "code",
   "execution_count": null,
   "metadata": {},
   "outputs": [],
   "source": [
    "print(3 + 5)"
   ]
  },
  {
   "cell_type": "markdown",
   "metadata": {},
   "source": [
    "One useful feature in python, is that you can combine strings using the `+` operator"
   ]
  },
  {
   "cell_type": "code",
   "execution_count": null,
   "metadata": {},
   "outputs": [],
   "source": [
    "print('Hello ' + 'World')"
   ]
  },
  {
   "cell_type": "markdown",
   "metadata": {},
   "source": [
    "Assigning is done using `=`"
   ]
  },
  {
   "cell_type": "code",
   "execution_count": null,
   "metadata": {},
   "outputs": [],
   "source": [
    "a = 2\n",
    "b = 3\n",
    "c = a + b\n",
    "print(c)"
   ]
  },
  {
   "cell_type": "code",
   "execution_count": null,
   "metadata": {},
   "outputs": [],
   "source": [
    "a = 'Foo'\n",
    "b = 'Bar'\n",
    "print(a + b)"
   ]
  },
  {
   "cell_type": "markdown",
   "metadata": {},
   "source": [
    "## Datastructures\n",
    "\n",
    "There are some important datastructures in Python, which are good to know.\n",
    "\n",
    "* Lists\n",
    "* Dictionaries\n",
    "* Tuples\n",
    "* NumPy arrays\n",
    "\n",
    "#### A `list` is an ordered collection of arbitrary objects"
   ]
  },
  {
   "cell_type": "code",
   "execution_count": null,
   "metadata": {},
   "outputs": [],
   "source": [
    "# a list\n",
    "l = [1, ('eggs', 7), 'spam', 1.35]\n",
    "print(l)\n",
    "print(l[1])\n",
    "print(l[-2])  # indexing with negative numbers counts from the end"
   ]
  },
  {
   "cell_type": "markdown",
   "metadata": {},
   "source": [
    "It is important to note, that Python starts list indexing from 0."
   ]
  },
  {
   "cell_type": "markdown",
   "metadata": {},
   "source": [
    "#### A `dict`  is a mapping from keys to values "
   ]
  },
  {
   "cell_type": "code",
   "execution_count": null,
   "metadata": {},
   "outputs": [],
   "source": [
    "d = {'s': 0, 'p': 1}\n",
    "print(d)\n",
    "print(d['p'])\n",
    "del d['s']\n",
    "print(d)"
   ]
  },
  {
   "cell_type": "markdown",
   "metadata": {},
   "source": [
    "#### A `tuple`  is an ordered collection like a list but is *immutable*\n",
    "useful for keywords in `dict` and more. However, most often a list is sufficient."
   ]
  },
  {
   "cell_type": "code",
   "execution_count": null,
   "metadata": {},
   "outputs": [],
   "source": [
    "# with a list we can reassign values\n",
    "x = [2, 3]\n",
    "x[0] = 100\n",
    "print(x)\n",
    "# this it not possible with a tuple\n",
    "y = (2, 3)\n",
    "print('y = ', y)\n",
    "try:\n",
    "    y[0] = 100\n",
    "except Exception as x:\n",
    "    print(x)\n",
    "print('y =', y)"
   ]
  },
  {
   "cell_type": "markdown",
   "metadata": {},
   "source": [
    "## NumPy\n",
    "\n",
    "NumPy is perhaps one of the most important packages in scientific computing in Python. The name is a contraction of \"Numerical Python\", so it is perhaps not surprising that it is used a lot in such fields.\n",
    "\n",
    "Perhaps the most powerful feature of Numpy is the `array` - a simple list-like container, but has features which are a lot more intuitive and useful for numerical science.\n",
    "#### Let's try\n",
    "\n",
    "In python, modules are \"imported\" like so"
   ]
  },
  {
   "cell_type": "code",
   "execution_count": null,
   "metadata": {},
   "outputs": [],
   "source": [
    "import numpy as np"
   ]
  },
  {
   "cell_type": "markdown",
   "metadata": {},
   "source": [
    "Note the `as np` part here. In python, you can rename your imported modules to more convinient names. In the case of Numpy, it is historically named `np`.\n",
    "\n",
    "Now we can start using it"
   ]
  },
  {
   "cell_type": "code",
   "execution_count": null,
   "metadata": {},
   "outputs": [],
   "source": [
    "x = np.array([1, 2, 3])\n",
    "print(x)\n",
    "print(x.mean())\n",
    "\n",
    "x[1] = 5\n",
    "print(x)\n",
    "print(x.mean())"
   ]
  },
  {
   "cell_type": "markdown",
   "metadata": {},
   "source": [
    "Numpy contains far too many useful features to cover here, however you can solve most numerical issues using numpy (or the related package `scipy`).\n",
    "\n",
    "We can also do matrices (or multidimensional arrays as they are called in numpy-lingo)"
   ]
  },
  {
   "cell_type": "code",
   "execution_count": null,
   "metadata": {},
   "outputs": [],
   "source": [
    "a = np.array([[1, 2, 3], [7, 8, 9]])\n",
    "\n",
    "print(a)\n",
    "print('Shape:', a.shape)\n",
    "print('Number of dimensions:', a.ndim)"
   ]
  },
  {
   "cell_type": "markdown",
   "metadata": {},
   "source": [
    "We can do many of the standard matrix type operations"
   ]
  },
  {
   "cell_type": "code",
   "execution_count": null,
   "metadata": {},
   "outputs": [],
   "source": [
    "print(a.T)  # .T is the transpose\n",
    "b = np.dot(a, a.T)  # dot-product between a and a.T\n",
    "print(b)"
   ]
  },
  {
   "cell_type": "markdown",
   "metadata": {},
   "source": [
    "However, be careful with using the `*` operator. If you are used to say MatLab, it behaves similar to that: It's an element-wise multiplication __NOT__ matrix multiplication."
   ]
  },
  {
   "cell_type": "code",
   "execution_count": null,
   "metadata": {},
   "outputs": [],
   "source": [
    "m = np.array([[1, 2], [3, 4]])\n",
    "print(m * m)  # Element wise\n",
    "print(np.dot(m, m))  # matrix-matrix multiplication"
   ]
  },
  {
   "cell_type": "markdown",
   "metadata": {},
   "source": [
    "`+` and `-` also work elementwise, which is often quite useful, especially for 1D arrays"
   ]
  },
  {
   "cell_type": "code",
   "execution_count": null,
   "metadata": {},
   "outputs": [],
   "source": [
    "v1 = np.array([4, 5, 6])\n",
    "v2 = np.array([0, 1, 2])\n",
    "\n",
    "print(v1+v2)\n",
    "print(v1-v2)"
   ]
  },
  {
   "cell_type": "markdown",
   "metadata": {},
   "source": [
    "ASE relies quite heavily on numpy arrays, and many of the results you will receive from ASE, e.g. when asking for the forces, will be in numpy arrays.\n",
    "\n",
    "Numpy is easy to learn, but hard to master.\n",
    "\n",
    "## Plotting with Matplotlib\n",
    "\n",
    "matplotlib is a matlab style plotting library, which is very commonly used for plotting data."
   ]
  },
  {
   "cell_type": "code",
   "execution_count": null,
   "metadata": {},
   "outputs": [],
   "source": [
    "# For technical reasons, this is used in Jupyter to show figures inside the notebook\n",
    "# It only needs to be run once per notebook\n",
    "%matplotlib inline"
   ]
  },
  {
   "cell_type": "markdown",
   "metadata": {},
   "source": [
    "#### Let's try plotting some stuff"
   ]
  },
  {
   "cell_type": "code",
   "execution_count": null,
   "metadata": {},
   "outputs": [],
   "source": [
    "import matplotlib.pyplot as plt\n",
    "\n",
    "# Construct some data\n",
    "x = np.linspace(0, 2 * np.pi, 50)  # 50 linearly spaced values in [0; 2*pi]\n",
    "y = np.sin(x)\n",
    "\n",
    "plt.plot(x, y, label='sin(x)')\n",
    "plt.xlabel('x')\n",
    "plt.ylabel('y')\n",
    "plt.title('My sine curve')\n",
    "plt.legend(loc='best')"
   ]
  },
  {
   "cell_type": "markdown",
   "metadata": {},
   "source": [
    "## String manipulation\n",
    "\n",
    "Strings can be manipulated in python in many ways. We are mostly going to be using the `format` method to insert values into our strings, as they provide a nice and convenient way to make pretty readable outputs. Again, there are many ways of manipulating strings, and I recommend using Google to learn more about this topic.\n",
    "\n",
    "The format uses the `{}` to denote when to modify a string, followed by the `format` method. Without any arguemnts inside `{}`, it will try and just insert whatever you pass into the string."
   ]
  },
  {
   "cell_type": "code",
   "execution_count": null,
   "metadata": {},
   "outputs": [],
   "source": [
    "a = 2\n",
    "b = 4.7\n",
    "\n",
    "s1 = 'Hurray!'\n",
    "\n",
    "lst = [1, 2, 'a', [-1, -2]]\n",
    "\n",
    "mystr = 'a is {}, b is {}, a+b = {}. {}'.format(a, b, a+b, s1)\n",
    "print(mystr)\n",
    "\n",
    "anotherstr = 'Here is a list: {}'.format(lst)\n",
    "print(anotherstr)"
   ]
  },
  {
   "cell_type": "markdown",
   "metadata": {},
   "source": [
    "Sometimes though, floats contain a lot of digits, and we use a floating point formatter, as we don't care about more than, say 3 digits"
   ]
  },
  {
   "cell_type": "code",
   "execution_count": null,
   "metadata": {},
   "outputs": [],
   "source": [
    "from numpy import pi\n",
    "\n",
    "s = 'pi with many digits: {}\\npi with less digits: {:.3f}'.format(pi, pi)\n",
    "print(s)"
   ]
  },
  {
   "cell_type": "markdown",
   "metadata": {},
   "source": [
    "## Functions\n",
    "\n",
    "Functions are simple to make in python. They consist of a `def` statement, function name, arguments, a function body and optionally a return statement - although, unlike C or Java, a function does not require a return statement.\n",
    "\n",
    "Functions can take two kinds of arguments: positional arguments and keyword arguments.\n",
    "\n",
    "Notice that in python, we use indentation to define the scope of a statement, which makes it a lot more human-readable."
   ]
  },
  {
   "cell_type": "code",
   "execution_count": null,
   "metadata": {},
   "outputs": [],
   "source": [
    "def f(x, m=2, n=1):\n",
    "    y = x + n\n",
    "    return y**m  # The ** operator is simply the power operator, so in this case it means y^m\n",
    "\n",
    "print(f(5))\n",
    "print(f(5, n=8))"
   ]
  },
  {
   "cell_type": "markdown",
   "metadata": {},
   "source": [
    "In the function above, `f` is the function name, `x` is a positional argument and `m` & `n` are keyword arguments. Keyword arguments basically function as default values for the function if you don't manually specify a new value.\n",
    "\n",
    "## Conditional statements\n",
    "\n",
    "In python, if/else statements look like the following"
   ]
  },
  {
   "cell_type": "code",
   "execution_count": null,
   "metadata": {},
   "outputs": [],
   "source": [
    "x = 3\n",
    "if x > 4:\n",
    "    print('Greater')\n",
    "else:\n",
    "    print('Smaller')\n",
    "\n",
    "\n",
    "# Define some function\n",
    "def myfunc(a):\n",
    "    if a > 4:\n",
    "        print(a, 'is greater than 4')\n",
    "    elif a == 4:\n",
    "        print('The input is 4')\n",
    "    else:\n",
    "        print(a, 'is smaller than 4')\n",
    "        \n",
    "myfunc(3)\n",
    "myfunc(5)\n",
    "myfunc(4)"
   ]
  },
  {
   "cell_type": "markdown",
   "metadata": {},
   "source": [
    "## Loops\n",
    "\n",
    "Loops are extremely convenient in Python, as we will see in a moment.\n",
    "\n",
    "The traditional C/java style loops would look something like"
   ]
  },
  {
   "cell_type": "code",
   "execution_count": null,
   "metadata": {},
   "outputs": [],
   "source": [
    "x = [8, 11, 13, 21]\n",
    "for i in range(len(x)):\n",
    "    print(x[i])"
   ]
  },
  {
   "cell_type": "markdown",
   "metadata": {},
   "source": [
    "However, in python, we can loop through so-called \"iterables\" directly. `list`, `tuple` and `np.array` are all examples of iterables which can be looped through in this manner"
   ]
  },
  {
   "cell_type": "code",
   "execution_count": null,
   "metadata": {},
   "outputs": [],
   "source": [
    "for i in x:\n",
    "    print(i)"
   ]
  },
  {
   "cell_type": "code",
   "execution_count": null,
   "metadata": {},
   "outputs": [],
   "source": [
    "x = ('Spam', 'Eggs', 'Foo', 23)\n",
    "for s in x:\n",
    "    print(s)"
   ]
  },
  {
   "cell_type": "markdown",
   "metadata": {},
   "source": [
    "Looping through dictionaries is a little different, but simple enough. The iterator is generated by using the `items` method"
   ]
  },
  {
   "cell_type": "code",
   "execution_count": null,
   "metadata": {},
   "outputs": [],
   "source": [
    "mydict = {'Foo': 'Bar',\n",
    "         'Eggs': 'Bacon',\n",
    "         12: [1, 9, 18, 4]}\n",
    "\n",
    "for key, value in mydict.items():\n",
    "    print(key, value)"
   ]
  },
  {
   "cell_type": "markdown",
   "metadata": {},
   "source": [
    "Quite often we generate data in a loop, and then store it in a list. One of the ways we can do this, is with what's called a \"list comprehension\". It has the general form of\n",
    "\n",
    "```python\n",
    "[f(x) for x in iterable if condition(x)]\n",
    "```\n",
    "The if condition is optional, but it's quite convinient for sorting through data."
   ]
  },
  {
   "cell_type": "code",
   "execution_count": null,
   "metadata": {},
   "outputs": [],
   "source": [
    "mylst = [i**2 for i in range(10) if i%2==0]\n",
    "print(mylst)"
   ]
  },
  {
   "cell_type": "markdown",
   "metadata": {},
   "source": [
    "If the operation is more complex, it can still be done in a traditional `for`-loop, and e.g. with the `append` method of a `list`."
   ]
  },
  {
   "cell_type": "code",
   "execution_count": null,
   "metadata": {},
   "outputs": [],
   "source": [
    "mylst = []\n",
    "for i in range(10):\n",
    "    if i%2 == 0:\n",
    "        mylst.append(i**2)\n",
    "print(mylst)"
   ]
  },
  {
   "cell_type": "markdown",
   "metadata": {},
   "source": [
    "## Reading and writing files\n",
    "\n",
    "There are many ways to read & write files in Python.\n",
    "\n",
    "Opening a file consists of opening and closing the file. It can be opened in several \"modes\", the most common being `r` (read), `w` (write) and `a` (append). Note that `w` mode overwrites anything already on file, while `a` will add to the end of the file, so be careful not to accidentally delete stuff you didn't want to delete with `w` mode.\n",
    "\n",
    "This can be done using a `open` statement, followed by a `close` method. This however, is __not__ the recommended way, as you will probably forget to close the file, or if your program crashes, it might not close your file propperly, etc.\n",
    "\n",
    "This is how you should do it the \"automatic\" way:"
   ]
  },
  {
   "cell_type": "code",
   "execution_count": null,
   "metadata": {},
   "outputs": [],
   "source": [
    "with open('myfile.txt', 'w') as f: # Open the file\n",
    "    print('Hello World', file=f)\n",
    "    print(123 + 53, file=f)\n",
    "    \n",
    "    try:\n",
    "        print('Writing to f', file=f) # We can no longer print to that file stream\n",
    "    except ValueError: # Writing to a closed filestream raises ValueError\n",
    "        print('Nope, cant do that!')\n",
    "\n",
    "# When we indent back out, the file is closed for us\n",
    "try:\n",
    "    print('Writing to f', file=f) # We can no longer print to that file stream\n",
    "except ValueError:  # Writing to a closed filestream raises ValueError\n",
    "    print('Nope, cant do that!')\n",
    "    \n",
    "# Let's append something\n",
    "with open('myfile.txt', 'a') as f:\n",
    "    print('Appending this line to the file', file=f)"
   ]
  },
  {
   "cell_type": "markdown",
   "metadata": {},
   "source": [
    "Note that we nowhere explicitly say `close`, but python automatically does it for us. \n",
    "\n",
    "Filestreams in read-mode are iterable, meaning that we can loop through a file"
   ]
  },
  {
   "cell_type": "code",
   "execution_count": null,
   "metadata": {},
   "outputs": [],
   "source": [
    "with open('myfile.txt', 'r') as f:\n",
    "    for line in f:\n",
    "        line = line.strip()  # Remove newline characters\n",
    "        print(line)"
   ]
  },
  {
   "cell_type": "markdown",
   "metadata": {},
   "source": [
    "__Note__: Be careful with file IO when working in parallel calculations! See further down on how to do that."
   ]
  },
  {
   "cell_type": "markdown",
   "metadata": {},
   "source": [
    "# ASE (Atomic Simulation Environment)\n",
    "\n",
    "ASE is a module designed for working with atoms. It uses the units of Ångstrom (Å) for length and electron volts (eV) for energy.\n",
    "\n",
    "In essence, ASE contains the `Atoms` object, which is a collection om `Atom` object - thus, when we loop through the `Atoms` object, we get an `Atom` object. The `Atoms` object can then be associated with a so-called `calculator` object, which is just an object which knows how to calculate energies and forces, e.g. GPAW.\n",
    "\n",
    "ASE and GPAW are quite complex modules, but there are good tutorials for doing many things, which can be found on their respective wiki pages.\n",
    "\n",
    "https://wiki.fysik.dtu.dk/ase/\n",
    "\n",
    "https://wiki.fysik.dtu.dk/gpaw/\n",
    "\n",
    "#### Let's see what that looks like\n",
    "\n",
    "Here we set up a CO molecule with a bond length of 1.1 Å."
   ]
  },
  {
   "cell_type": "code",
   "execution_count": null,
   "metadata": {},
   "outputs": [],
   "source": [
    "from ase import Atoms\n",
    "d = 1.1\n",
    "atoms = Atoms('CO', positions=[[0, 0, 0], [0, 0, d]])"
   ]
  },
  {
   "cell_type": "markdown",
   "metadata": {},
   "source": [
    "ASE contains tools to visualize the system. This opens a new window for viewing the atoms"
   ]
  },
  {
   "cell_type": "code",
   "execution_count": null,
   "metadata": {},
   "outputs": [],
   "source": [
    "from ase.visualize import view\n",
    "view(atoms)"
   ]
  },
  {
   "cell_type": "markdown",
   "metadata": {},
   "source": [
    "And as mentioned, we can loop through the `Atoms` object to get `Atom` objects"
   ]
  },
  {
   "cell_type": "code",
   "execution_count": null,
   "metadata": {},
   "outputs": [],
   "source": [
    "print(atoms)\n",
    "for atom in atoms:\n",
    "    print(atom)"
   ]
  },
  {
   "cell_type": "markdown",
   "metadata": {},
   "source": [
    "As you can see, the first print statement is `Atoms`, which contains more than a single atom, while the `Atom` object only contains 1 atom.\n",
    "\n",
    "From this point on, we can start building more complex systems. But before we get to that, let's take a look at how ASE can do simulations."
   ]
  },
  {
   "cell_type": "code",
   "execution_count": null,
   "metadata": {},
   "outputs": [],
   "source": [
    "from ase.calculators.emt import EMT\n",
    "\n",
    "calc = EMT()\n",
    "atoms.set_calculator(calc)\n",
    "print(atoms.get_forces())"
   ]
  },
  {
   "cell_type": "markdown",
   "metadata": {},
   "source": [
    "Now, the `EMT` calculator is very primitive, and typically will not do a very good job - but it's fast! We will need to turn to GPAW to do any worthwile simulations.\n",
    "\n",
    "#### Let's take a look at a real example in todays exercise on calculating bulk structures for iron and titanium, which will use many of the things we just saw.\n",
    "\n",
    "Don't worry if you didn't understand everything the first time, it has a rather steep learning curve."
   ]
  },
  {
   "cell_type": "markdown",
   "metadata": {},
   "source": [
    "# Submitting jobs to the queue\n",
    "\n",
    "Often, DFT calculations take a while to run. A normal execution of a python program will only run on 1 core, however, that is very rarely ever enough to do any real simulations, so we turn to parallel execution of the programs.\n",
    "\n",
    "To make a long story short, this process is simplified through the GPAW software, as this takes care of doing the parallel code for you! However, we will need to start GPAW in the correct manner, before it can run in parallel.\n",
    "\n",
    "Running things in parallel obviously takes up most, if not all, of the available CPU's, depending on how many cores you request. This is why we will be running those calculations on the queue, where you will be assigned a slot on a machine, where your simulation can run without disturbing others.\n",
    "\n",
    "We have set up a program called `qsub.py`, which will take care of most of that for you. The syntax in the terminal is\n",
    "\n",
    "```bash\n",
    "qsub.py -t T -p NPROC myscript.py\n",
    "```\n",
    "which will submit `myscript.py` to the queue, requesting `NPROC` number of cores for the duration of `T` hours. So for example, it could look something like\n",
    "```bash\n",
    "qsub.py -t 1 -p 8 myscript.py\n",
    "```\n",
    "which would submit `myscript.py` to the queue for 1 hour on 8 processors. We can then look at our queue with the command \n",
    "\n",
    "```bash\n",
    "qstat -u $USER\n",
    "```\n",
    "which gives us information about the jobs we currently have in the queue, whether they are waiting to start, running or completed. You can delete a job from the job with the command\n",
    "\n",
    "```bash\n",
    "qdel JOBID\n",
    "```\n",
    "where `JOBID` is the ID number of the job, which we can get with the `qstat` command above.\n"
   ]
  },
  {
   "cell_type": "markdown",
   "metadata": {},
   "source": [
    "# A few neat tricks\n",
    "\n",
    "See also https://wiki.fysik.dtu.dk/ase/tips.html\n",
    "\n",
    "\n",
    "### Looping through a series of systems\n",
    "Clever utilization of `ase.build` (or databases, see https://wiki.fysik.dtu.dk/ase/ase/db/db.html) can be extremely useful, and make reusing code much easier. Often, our calculator objects don't need (many) adjustments depending on the system, so we can reuse them in a loop. Possibly adjustments could be handled using `if` statements."
   ]
  },
  {
   "cell_type": "code",
   "execution_count": null,
   "metadata": {},
   "outputs": [],
   "source": [
    "# Looping through a list of systems, e.g. molecules\n",
    "from ase.build import molecule\n",
    "from ase.calculators.emt import EMT\n",
    "import pickle\n",
    "\n",
    "energies = {}  # We can use the system names as keys\n",
    "mysystems = ['NH3', 'H2', 'N2']\n",
    "\n",
    "for name in mysystems:\n",
    "    system = molecule(name)\n",
    "    calc = EMT()  # We could use any calculator\n",
    "\n",
    "    system.set_calculator(calc)\n",
    "    en = system.get_potential_energy()  # We could potentially also do a relaxation here\n",
    "    energies[name] = en  # Store this value\n",
    "    \n",
    "# Now \"energies\" is a dictionary which contains all of our potential energies\n",
    "# and we can easily see which energy belongs to which system\n",
    "\n",
    "# Let's store \"energies\" to disk, so we can read it later\n",
    "# We use the \"pickle\" module for that\n",
    "# note the 'wb' means we write 'myenergies.pckl' as a binary file (not human readable)\n",
    "with open('myenergies.pckl', 'wb') as f:\n",
    "    pickle.dump(energies, f)\n",
    "    \n",
    "# Imagine we in a 2nd file now wanted to read those energies for post-proccessing after an expensive DFT run\n",
    "# note the 'rb' to read binary files\n",
    "with open('myenergies.pckl', 'rb') as f:\n",
    "    energies_loaded = pickle.load(f)\n",
    "    \n",
    "print(energies_loaded == energies) # check that the loaded version is identical to the original\n",
    "print(energies_loaded)"
   ]
  },
  {
   "cell_type": "markdown",
   "metadata": {},
   "source": [
    "### Printing in parallel\n",
    "\n",
    "When you submit your jobs using the `qsub.py` file, your jobs will be running in parallel on a specified number of nodes. This means that every time you do a `print`, each processor will do that print, so if you do a `print('Hello')` on 4 processors, you would get `'Hello'` back 4 times.\n",
    "\n",
    "This is not very nice, and ASE has an entire module to handle this, see https://wiki.fysik.dtu.dk/ase/ase/parallel.html\n",
    "\n",
    "The most useful features of this module is the `parprint` and `paropen`. They also work correctly, even if you are not running in parallel. Consider the following example"
   ]
  },
  {
   "cell_type": "code",
   "execution_count": null,
   "metadata": {},
   "outputs": [],
   "source": [
    "%%writefile parallel_example.py\n",
    "from ase.parallel import parprint, paropen, world\n",
    "\n",
    "# world.rank tells us which processor is executing the code\n",
    "print('Hello from print statement on rank', world.rank)\n",
    "\n",
    "parprint('Hello from parprint on rank', world.rank)\n",
    "\n",
    "with paropen('a_parallel_file.txt', 'w') as f:\n",
    "    print(123, file=f)\n",
    "    print('A line!', file=f)\n",
    "    print('Foo', file=f)\n",
    "    print('Theres only one of me!... right?', file=f)"
   ]
  },
  {
   "cell_type": "markdown",
   "metadata": {},
   "source": [
    "The following runs the above code in parallel on 4 cores, without submitting it to the queue. We will not be needing this in general, but in this case it's easier than submitting to the queue, as we get the output back directly."
   ]
  },
  {
   "cell_type": "code",
   "execution_count": null,
   "metadata": {},
   "outputs": [],
   "source": [
    "!mpiexec -np 4 gpaw-python parallel_example.py"
   ]
  },
  {
   "cell_type": "markdown",
   "metadata": {},
   "source": [
    "Depending on the execution order, you might even see that the print statements aren't in order. That's due to the nature of how parallelism works, but we will not be discussing that subject in this course, as that's an entire topic itself.\n",
    "\n",
    "Suffice it to say, that `parprint` makes printing our outputs much cleaner, so you should probably be using that whenever you are printing anything from a parallel calculation.\n",
    "\n",
    "About the file we wrote to in parallel, let's have a look. What would have happened if we didn't use `paropen`?"
   ]
  },
  {
   "cell_type": "code",
   "execution_count": null,
   "metadata": {},
   "outputs": [],
   "source": [
    "with open('a_parallel_file.txt', 'r') as f:\n",
    "    for line in f:\n",
    "        line = line.strip()\n",
    "        print(line)"
   ]
  },
  {
   "cell_type": "markdown",
   "metadata": {},
   "source": [
    "### Deleting specfic atoms from an atoms object\n",
    "\n",
    "We can also remove particular atoms from an `atoms` object, which is quite convenient using the list comprehension. The following example removes all `H` atoms from the molecule."
   ]
  },
  {
   "cell_type": "code",
   "execution_count": 1,
   "metadata": {},
   "outputs": [],
   "source": [
    "from ase.build import molecule\n",
    "atoms = molecule('CH3CH2OH')\n",
    "idx = [atom.index for atom in atoms if atom.symbol=='H']\n",
    "del atoms[idx]"
   ]
  }
 ],
 "metadata": {
  "kernelspec": {
   "display_name": "Python 3",
   "language": "python",
   "name": "python3"
  },
  "language_info": {
   "codemirror_mode": {
    "name": "ipython",
    "version": 3
   },
   "file_extension": ".py",
   "mimetype": "text/x-python",
   "name": "python",
   "nbconvert_exporter": "python",
   "pygments_lexer": "ipython3",
   "version": "3.7.3"
  }
 },
 "nbformat": 4,
 "nbformat_minor": 2
}
