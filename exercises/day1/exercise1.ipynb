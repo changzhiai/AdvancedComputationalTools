{
 "cells": [
  {
   "cell_type": "markdown",
   "metadata": {},
   "source": [
    "# Simple H$_2$O molecule\n",
    "\n",
    "In this exercise, we are going to relax a simple H$_2$O molecule.  This is purely an exercise to ensure that the software has been installed correctly, so do not worry about the details.\n",
    "\n",
    "A cell is evaluated (run) using `shift+enter`.\n",
    "\n",
    "First we set up the H$_2$O molecule, and relax it."
   ]
  },
  {
   "cell_type": "code",
   "execution_count": 2,
   "metadata": {},
   "outputs": [
    {
     "name": "stdout",
     "output_type": "stream",
     "text": [
      "Overwriting H2O.py\n"
     ]
    }
   ],
   "source": [
    "%%writefile H2O.py\n",
    "import numpy as np\n",
    "\n",
    "from ase import Atoms\n",
    "from ase.calculators.emt import EMT\n",
    "from ase.optimize import BFGS\n",
    "from ase.visualize import view\n",
    "from ase.io import read\n",
    "\n",
    "# Set up the atoms object\n",
    "d = 1.2\n",
    "t = np.pi / 180 * 104.51\n",
    "atoms = Atoms('H2O',\n",
    "              positions=[(d, 0, 0),\n",
    "                         (d * np.cos(t), d * np.sin(t), 0),\n",
    "                         (0, 0, 0)],\n",
    "              calculator=EMT())\n",
    "atoms.center(vacuum=5)\n",
    "# Relax the atoms\n",
    "dyn = BFGS(atoms, trajectory='H2O.traj')\n",
    "dyn.run(0.05)"
   ]
  },
  {
   "cell_type": "code",
   "execution_count": 3,
   "metadata": {},
   "outputs": [
    {
     "name": "stdout",
     "output_type": "stream",
     "text": [
      "      Step     Time          Energy         fmax\n",
      "BFGS:    0 14:34:42        2.170734        3.1570\n",
      "BFGS:    1 14:34:42        1.942139        1.5660\n",
      "BFGS:    2 14:34:42        1.885130        0.5104\n",
      "BFGS:    3 14:34:42        1.879540        0.0513\n",
      "BFGS:    4 14:34:42        1.879472        0.0081\n"
     ]
    }
   ],
   "source": [
    "#!qsub.py -t 1 -p 8 H2O.py\n",
    "!gpaw python --dry-run=1 H2O.py\n",
    "#!bsub < H2O.py"
   ]
  },
  {
   "cell_type": "markdown",
   "metadata": {},
   "source": [
    "Now we have relaxed our molecule, let's take a look at what that process looked like."
   ]
  },
  {
   "cell_type": "code",
   "execution_count": 14,
   "metadata": {},
   "outputs": [
    {
     "name": "stdout",
     "output_type": "stream",
     "text": [
      "No unfinished job found\r\n"
     ]
    }
   ],
   "source": [
    "#!qstat -u $USER\n",
    "#!ls\n",
    "#!bstat"
   ]
  },
  {
   "cell_type": "code",
   "execution_count": 4,
   "metadata": {},
   "outputs": [
    {
     "name": "stdout",
     "output_type": "stream",
     "text": [
      "H2O.py\tH2O.traj  exercise1.ipynb\n",
      "Fontconfig warning: ignoring iso_8859_1: not a valid region tag\n",
      "QStandardPaths: XDG_RUNTIME_DIR not set, defaulting to '/tmp/pbs.116149.hnode4/runtime-tipapa'\n",
      "Attribute Qt::AA_EnableHighDpiScaling must be set before QCoreApplication is created.\n",
      "Fontconfig warning: ignoring iso_8859_1: not a valid region tag\n"
     ]
    }
   ],
   "source": [
    "!ls\n",
    "!ase gui H2O.traj"
   ]
  },
  {
   "cell_type": "code",
   "execution_count": 16,
   "metadata": {},
   "outputs": [],
   "source": [
    "from ase.io import read\n",
    "from ase.visualize import view\n",
    "    \n",
    "traj = read('H2O.traj@:')\n",
    "view(traj)"
   ]
  },
  {
   "cell_type": "markdown",
   "metadata": {},
   "source": [
    "Rotate the image, so you can see both hydrogen atoms. Play the movie, to watch the relaxation process. What is the distance between the oxygen and the hydrogen atoms?\n",
    "\n",
    "If you are succesfully able to watch the movie, your software is now propperly configured, and we are done for the day."
   ]
  }
 ],
 "metadata": {
  "kernelspec": {
   "display_name": "Python 3",
   "language": "python",
   "name": "python3"
  },
  "language_info": {
   "codemirror_mode": {
    "name": "ipython",
    "version": 3
   },
   "file_extension": ".py",
   "mimetype": "text/x-python",
   "name": "python",
   "nbconvert_exporter": "python",
   "pygments_lexer": "ipython3",
   "version": "3.7.3"
  }
 },
 "nbformat": 4,
 "nbformat_minor": 2
}
