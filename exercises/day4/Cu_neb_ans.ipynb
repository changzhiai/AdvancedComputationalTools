{
 "cells": [
  {
   "cell_type": "markdown",
   "metadata": {},
   "source": [
    "# Nudge Elastic Band exercise\n",
    "\n",
    "In this exercise we will use the Climbing Image Nudged Elastic Band method to identify transition\n",
    "states for Cu adatom diffusion on Cu(110).\n",
    "\n",
    "We will be using EMT in this exercise, but note that when using DFT methods, NEB easily gets too expensive to run locally, so later in the course we will be submitting these types of calculations to the cluster.\n",
    "\n",
    "## Calculate the lattice of bulk Cu with EMT\n",
    "\n",
    "Perform a series of EMT calculations around the experimental Cu lattice constant and save the calculations to a trajectory. See below for inspiration on how to do this.\n",
    "\n",
    "You can use https://en.wikipedia.org/wiki/Periodic_table_%28crystal_structure%29 and https://en.wikipedia.org/wiki/Lattice_constant to find a good starting value for the lattice parameter of Cu in an FCC lattice. Note that EMT will not find the exact lattice parameter which is known from experiments though!\n",
    "\n",
    "View the files in the ASE gui, and use the Tools/Bulk Modulus functionality to fit an equation of state.\n",
    "\n",
    "Questions:\n",
    "* What is the lattice constant and bulk modulus with EMT?\n",
    "* What is the energy per atom of bulk Cu in EMT?"
   ]
  },
  {
   "cell_type": "code",
   "execution_count": 1,
   "metadata": {},
   "outputs": [
    {
     "name": "stdout",
     "output_type": "stream",
     "text": [
      "New a: 3.312\tEnergy: 1.294\n",
      "New a: 3.353\tEnergy: 0.895\n",
      "New a: 3.394\tEnergy: 0.581\n",
      "New a: 3.435\tEnergy: 0.340\n",
      "New a: 3.477\tEnergy: 0.164\n",
      "New a: 3.518\tEnergy: 0.047\n",
      "New a: 3.559\tEnergy: -0.015\n",
      "New a: 3.600\tEnergy: -0.027\n",
      "New a: 3.641\tEnergy: 0.006\n",
      "New a: 3.682\tEnergy: 0.079\n",
      "New a: 3.723\tEnergy: 0.187\n",
      "New a: 3.765\tEnergy: 0.328\n",
      "New a: 3.806\tEnergy: 0.497\n",
      "New a: 3.847\tEnergy: 0.690\n",
      "New a: 3.888\tEnergy: 0.901\n"
     ]
    }
   ],
   "source": [
    "import numpy as np\n",
    "\n",
    "from ase import Atoms\n",
    "from ase.io.trajectory import Trajectory \n",
    "from ase.calculators.emt import EMT\n",
    "from ase.build import bulk\n",
    "\n",
    "a = 3.6 # student: a = ?  #  trial lattice constant\n",
    "atoms = bulk('Cu', crystalstructure='fcc', a=a, cubic=True)\n",
    "calc = EMT()\n",
    "atoms.set_calculator(calc)\n",
    "\n",
    "traj = Trajectory('bulk-relax.traj', mode='w', atoms=atoms)\n",
    "\n",
    "scales = np.linspace(0.92, 1.08, 15)  # modify the lattice parameter by +/- 8% in 15 steps\n",
    "\n",
    "for i, scale in enumerate(scales):\n",
    "    atoms.set_cell(scale * np.array((a, a, a)), scale_atoms=True)\n",
    "    e = atoms.get_potential_energy()\n",
    "    traj.write()\n",
    "    print('New a: {:.3f}\\tEnergy: {:.3f}'.format(scale*a, e))"
   ]
  },
  {
   "cell_type": "code",
   "execution_count": 2,
   "metadata": {},
   "outputs": [],
   "source": [
    "from ase.visualize import view\n",
    "from ase.io import read\n",
    "import numpy as np\n",
    "bulk = read('bulk-relax.traj@:')\n",
    "view(bulk)"
   ]
  },
  {
   "cell_type": "code",
   "execution_count": 3,
   "metadata": {},
   "outputs": [
    {
     "data": {
      "text/plain": [
       "'3.590'"
      ]
     },
     "execution_count": 3,
     "metadata": {},
     "output_type": "execute_result"
    }
   ],
   "source": [
    "# teacher\n",
    "# optimal lattice constant\n",
    "'{:.3f}'.format(46.258**(1/3))"
   ]
  },
  {
   "cell_type": "markdown",
   "metadata": {},
   "source": [
    "## Set up a Cu(110) surface using the ase.build.surface module\n",
    "\n",
    "In the following, we will set up a Cu(110) surface with a Cu adatom, see the below script for inspiration.\n",
    "\n",
    "Question:\n",
    "* What is the reaction energy of $$\\text{Cu(bulk)} + \\text{Cu(110)} \\rightarrow \\text{Cu@Cu(110)}$$ where Cu@Cu(110) is the (110) surface with an adatom."
   ]
  },
  {
   "cell_type": "code",
   "execution_count": 4,
   "metadata": {},
   "outputs": [
    {
     "name": "stdout",
     "output_type": "stream",
     "text": [
      "      Step     Time          Energy         fmax\n",
      "BFGS:    0 16:16:31       23.813230        1.4385\n",
      "BFGS:    1 16:16:31       23.772640        1.4673\n",
      "BFGS:    2 16:16:31       23.693898        1.5235\n",
      "BFGS:    3 16:16:31       23.622765        1.5742\n",
      "BFGS:    4 16:16:31       23.547769        1.6233\n",
      "BFGS:    5 16:16:32       23.472128        1.6650\n",
      "BFGS:    6 16:16:32       23.395026        1.7011\n",
      "BFGS:    7 16:16:32       23.317007        1.7336\n",
      "BFGS:    8 16:16:32       23.238036        1.7627\n",
      "BFGS:    9 16:16:32       23.158351        1.7874\n",
      "BFGS:   10 16:16:32       23.078156        1.8066\n",
      "BFGS:   11 16:16:32       22.997740        1.8195\n",
      "BFGS:   12 16:16:32       22.917423        1.8253\n",
      "BFGS:   13 16:16:32       22.837669        1.8233\n",
      "BFGS:   14 16:16:33       22.758534        1.8130\n",
      "BFGS:   15 16:16:33       22.680553        1.7934\n",
      "BFGS:   16 16:16:33       22.604077        1.7635\n",
      "BFGS:   17 16:16:33       22.529631        1.7219\n",
      "BFGS:   18 16:16:33       22.457700        1.6679\n",
      "BFGS:   19 16:16:33       22.388828        1.6012\n",
      "BFGS:   20 16:16:33       22.323521        1.5222\n",
      "BFGS:   21 16:16:33       22.262254        1.4312\n",
      "BFGS:   22 16:16:33       22.205435        1.3284\n",
      "BFGS:   23 16:16:34       22.153412        1.2142\n",
      "BFGS:   24 16:16:34       22.106469        1.0882\n",
      "BFGS:   25 16:16:34       22.064824        0.9506\n",
      "BFGS:   26 16:16:34       22.028599        0.8030\n",
      "BFGS:   27 16:16:34       21.997764        0.6473\n",
      "BFGS:   28 16:16:34       21.972121        0.4856\n",
      "BFGS:   29 16:16:34       21.951292        0.3201\n",
      "BFGS:   30 16:16:34       21.934673        0.2625\n",
      "BFGS:   31 16:16:34       21.921340        0.2761\n",
      "BFGS:   32 16:16:35       21.909875        0.2695\n",
      "BFGS:   33 16:16:35       21.898139        0.2591\n",
      "BFGS:   34 16:16:35       21.885798        0.2515\n",
      "BFGS:   35 16:16:35       21.875755        0.1208\n",
      "BFGS:   36 16:16:35       21.870495        0.1199\n",
      "BFGS:   37 16:16:35       21.866756        0.1427\n",
      "BFGS:   38 16:16:35       21.861579        0.2092\n",
      "BFGS:   39 16:16:35       21.855774        0.2023\n",
      "BFGS:   40 16:16:35       21.851254        0.1061\n",
      "BFGS:   41 16:16:36       21.849094        0.0855\n",
      "BFGS:   42 16:16:36       21.847796        0.0977\n",
      "BFGS:   43 16:16:36       21.846166        0.0783\n",
      "BFGS:   44 16:16:36       21.845109        0.0513\n",
      "BFGS:   45 16:16:36       21.844724        0.0285\n",
      "BFGS:   46 16:16:36       21.844567        0.0224\n",
      "BFGS:   47 16:16:36       21.844398        0.0242\n",
      "BFGS:   48 16:16:36       21.844209        0.0272\n",
      "BFGS:   49 16:16:37       21.844078        0.0151\n",
      "BFGS:   50 16:16:37       21.844015        0.0151\n",
      "BFGS:   51 16:16:37       21.843969        0.0116\n",
      "BFGS:   52 16:16:37       21.843912        0.0152\n",
      "BFGS:   53 16:16:37       21.843858        0.0131\n",
      "BFGS:   54 16:16:37       21.843824        0.0076\n"
     ]
    }
   ],
   "source": [
    "import numpy as np\n",
    "\n",
    "from ase import Atoms\n",
    "from ase.calculators.emt import EMT\n",
    "from ase.optimize import BFGS\n",
    "from ase.build.surface import fcc110, add_adsorbate\n",
    "from ase.constraints import FixAtoms\n",
    "\n",
    "a0 = 3.590 # student: a0 = ? # use calculated lattice constant\n",
    "\n",
    "size = (4, 4, 7)\n",
    "slab = fcc110('Cu', a=a0, size=size, vacuum=7.)\n",
    "cell = slab.get_cell()\n",
    "\n",
    "# optimize the top 4 layers\n",
    "mask = [a.tag > 4 for a in slab]\n",
    "slab.set_constraint(FixAtoms(mask=mask))\n",
    "\n",
    "# add adsorbate where you want it\n",
    "pos = np.array([1, 0])  # Adjust to move around adsorbed Cu atom - offset in (x, y) direction by 1 lattice vector\n",
    "posname = 'a' + ''.join(str(p) for p in pos)  # a00, a10, a01\n",
    "\n",
    "add_adsorbate(slab, 'Cu',\n",
    "              0.7*a0,  # Height above slab\n",
    "              position=pos*a0,  # Position above the Cu slab.\n",
    "              offset=(0.5, 0.5))\n",
    "\n",
    "if 0: # for viewing only. Set to 1 to view, and 0 to ignore\n",
    "    from ase.visualize import view\n",
    "    view(slab)\n",
    "    assert False # Hack to break the execution by raising an error intentionally.\n",
    "\n",
    "# Relax the cell using EMT\n",
    "calc = EMT()\n",
    "slab.set_calculator(calc)\n",
    "\n",
    "dyn = BFGS(slab, trajectory='Cu110_{}.traj'.format(posname))\n",
    "dyn.run(fmax=0.01)\n",
    "e_110 = slab.get_potential_energy()"
   ]
  },
  {
   "cell_type": "markdown",
   "metadata": {},
   "source": [
    "## CI-NEB\n",
    "\n",
    "Use the CI-NEB method to calculate activation energies for Cu adatom diffusion on Cu(110). See the script below for inspiration on how to run the CI-NEB calculation in ASE. The initial and final states are constructed in the above script.\n",
    "\n",
    "You can use the ase-gui to plot minimum energy pathway (MEP) using the command `ase gui CINEB.traj@-10:` and then chose the menu Tools/NEB. Remember that you can run terminal commands in the notebook by starting the line with `!`. Note that the `-10` at the end of the command means \"look at the last 10 images of `CINEB.traj`. The reason we chose 10, is because we chose to have 10 images in total.\n",
    "\n",
    "Questions:\n",
    "* Show a MEP for diffusion in the [0 0 1] direction (hopping over a \"long bridge\")\n",
    "* Show a MEP for diffusion in the [1 -1 0] direction (hopping over a \"short bridge\")\n",
    "* Can you imagine other diffusion steps?"
   ]
  },
  {
   "cell_type": "code",
   "execution_count": 5,
   "metadata": {},
   "outputs": [
    {
     "name": "stdout",
     "output_type": "stream",
     "text": [
      "       Step     Time          Energy         fmax\n",
      "*Force-consistent energies used in optimization.\n",
      "LBFGS:    0 16:17:01       22.557468*       2.3812\n",
      "LBFGS:    1 16:17:02       22.372863*       1.5603\n",
      "LBFGS:    2 16:17:03       22.245220*       0.7550\n",
      "LBFGS:    3 16:17:03       22.192077*       0.2741\n",
      "LBFGS:    4 16:17:04       22.182807*       0.2520\n",
      "LBFGS:    5 16:17:05       22.175051*       0.3478\n",
      "LBFGS:    6 16:17:06       22.162787*       0.4009\n",
      "LBFGS:    7 16:17:07       22.153367*       0.3334\n",
      "LBFGS:    8 16:17:08       22.147752*       0.2001\n",
      "LBFGS:    9 16:17:08       22.143877*       0.2243\n",
      "LBFGS:   10 16:17:09       22.138810*       0.2617\n",
      "LBFGS:   11 16:17:10       22.132439*       0.2058\n",
      "LBFGS:   12 16:17:11       22.128484*       0.1062\n",
      "LBFGS:   13 16:17:12       22.126274*       0.1090\n",
      "LBFGS:   14 16:17:12       22.123829*       0.1116\n",
      "LBFGS:   15 16:17:13       22.121267*       0.1061\n",
      "LBFGS:   16 16:17:14       22.119712*       0.0711\n",
      "       Step     Time          Energy         fmax\n",
      "*Force-consistent energies used in optimization.\n",
      "LBFGS:    0 16:17:14       22.119712*       0.1237\n",
      "LBFGS:    1 16:17:15       22.119584*       0.1189\n",
      "LBFGS:    2 16:17:16       22.119988*       0.0955\n",
      "LBFGS:    3 16:17:16       22.120228*       0.0929\n",
      "LBFGS:    4 16:17:17       22.122531*       0.0689\n",
      "LBFGS:    5 16:17:18       22.123092*       0.0610\n",
      "LBFGS:    6 16:17:19       22.123485*       0.0563\n",
      "LBFGS:    7 16:17:19       22.123879*       0.0532\n",
      "LBFGS:    8 16:17:20       22.124518*       0.0472\n",
      "LBFGS:    9 16:17:21       22.124955*       0.0389\n",
      "LBFGS:   10 16:17:22       22.125189*       0.0295\n",
      "LBFGS:   11 16:17:23       22.125359*       0.0318\n",
      "LBFGS:   12 16:17:23       22.125545*       0.0299\n",
      "LBFGS:   13 16:17:24       22.125652*       0.0198\n"
     ]
    }
   ],
   "source": [
    "import numpy as np\n",
    "\n",
    "from ase.io import read, write\n",
    "from ase.calculators.emt import EMT\n",
    "from ase.neb import NEB\n",
    "from ase.optimize import LBFGS as Optimizer\n",
    "\n",
    "initial = read('Cu110_a00.traj@-1') # read structure of initial state\n",
    "final = read('Cu110_a01.traj@-1') # read structure of final state\n",
    "\n",
    "# initialize NEB\n",
    "Nimages = 8 # number of images\n",
    "\n",
    "configs = [initial]\n",
    "for i in range(Nimages):\n",
    "    config = initial.copy()\n",
    "    config.set_calculator(EMT())\n",
    "    configs.append(config)\n",
    "configs.append(final)\n",
    "\n",
    "band = NEB(configs)\n",
    "band.interpolate()\n",
    "\n",
    "# optimize NEB\n",
    "relax = Optimizer(band, trajectory='a01-NEB.traj')\n",
    "relax.run(steps=50, fmax=0.1)\n",
    "\n",
    "if 1: # CINEB\n",
    "    ciband = NEB(configs, climb=True)\n",
    "    cirelax = Optimizer(ciband, trajectory='a01-CINEB.traj')\n",
    "    cirelax.run(steps=200, fmax=0.02) "
   ]
  },
  {
   "cell_type": "code",
   "execution_count": 6,
   "metadata": {},
   "outputs": [],
   "source": [
    "!ase gui a01-CINEB.traj@-10:"
   ]
  },
  {
   "cell_type": "code",
   "execution_count": 2,
   "metadata": {},
   "outputs": [
    {
     "name": "stdout",
     "output_type": "stream",
     "text": [
      "Direction: 10\tBarrier: 0.832\n",
      "Direction: 01\tBarrier: 0.289\n"
     ]
    }
   ],
   "source": [
    "# teacherls\n",
    "from ase.neb import NEBTools\n",
    "from ase.io import read\n",
    "for direction in ['10', '01']:\n",
    "    atoms = read('a{}-CINEB.traj@-10:'.format(direction))\n",
    "    neb = NEBTools(atoms)\n",
    "    eb = neb.get_barrier()[0]\n",
    "    print('Direction: {}\\tBarrier: {:.3f}'.format(direction, eb))"
   ]
  },
  {
   "cell_type": "markdown",
   "metadata": {},
   "source": [
    "## Vibrational Analysis\n",
    "\n",
    "Calculate vibrational frequencies for the initial state and transition states. See below for inspiration on how to do this.\n",
    "\n",
    "Questions:\n",
    "* How many imaginary modes are there at the initial states and transition states?\n",
    "* Describe the imaginary mode(s) of the transition state?"
   ]
  },
  {
   "cell_type": "code",
   "execution_count": null,
   "metadata": {},
   "outputs": [],
   "source": [
    "import numpy as np\n",
    "\n",
    "from ase import Atoms\n",
    "from ase.calculators.emt import EMT\n",
    "from ase.vibrations import Vibrations\n",
    "\n",
    "from ase.io import read\n",
    "\n",
    "slab = read('Cu110_a00.traj@-1') # read initial or transition state structure\n",
    "slab.set_calculator(EMT())\n",
    "\n",
    "vibindices = [atom.tag < 1 for atom in slab] # vibrate only atoms with tag < 0\n",
    "                                             # (here it means: vibrate only adatom)\n",
    "vibindices = np.array(vibindices).nonzero()[0] # extract indices of atoms to be vibrated\n",
    "\n",
    "vib = Vibrations(slab, \n",
    "                 name='initial-vib', # Can be a good idea to adjust this name, for different systems\n",
    "                 indices=vibindices, nfree=4, delta=0.01) # set up vibrational analysis calculation\n",
    "                 # slab - Atoms object for which we are running vib\n",
    "                 # indices - indices of atoms to be vibrated\n",
    "                 # nfree - method; 4 displacements (see Wikipedia: five-point stencil)\n",
    "                 # delta - displacement\n",
    "                 # See documentation for Vibrations: https://wiki.fysik.dtu.dk/ase/ase/vibrations/vibrations.html\n",
    "vib.run() # run vibrational analysis calculation\n",
    "vib.summary() # show vibrational modes' wavenumbers\n",
    "\n",
    "for i in range(3):\n",
    "    vib.write_mode(i) # write modes\n",
    "\n",
    "#    You can visualize normal modes with\n",
    "#         ase gui vib.x.traj\n",
    "#    in the console, where x is the mode number (0, 1 or 2)"
   ]
  },
  {
   "cell_type": "code",
   "execution_count": null,
   "metadata": {},
   "outputs": [],
   "source": [
    "!ase gui initial-vib.0.traj"
   ]
  },
  {
   "cell_type": "markdown",
   "metadata": {},
   "source": [
    "## Rate Analysis\n",
    "Use transition state theory to estimate the rate of atom hopping in the [1 -1 0] and [0 0 1] directions as function of temperature.\n",
    "\n",
    "Plot this estimate as function of temperature."
   ]
  },
  {
   "cell_type": "code",
   "execution_count": 1,
   "metadata": {},
   "outputs": [
    {
     "data": {
      "image/png": "[encoded data removed]",
      "text/plain": [
       "<Figure size 432x288 with 1 Axes>"
      ]
     },
     "metadata": {
      "needs_background": "light"
     },
     "output_type": "display_data"
    }
   ],
   "source": [
    "%matplotlib inline\n",
    "import numpy as np\n",
    "from ase.vibrations import Vibrations\n",
    "from ase.io import read\n",
    "from ase.calculators.emt import EMT\n",
    "import matplotlib.pyplot as plt\n",
    "\n",
    "# Calculated barriers\n",
    "barriers = {'01': 0.289, '10': 0.832}  # student: barriers = {'01': ?, '10': ?}\n",
    "\n",
    "directions = ['01', '10']\n",
    "\n",
    "def rate(T, ens0, ens1, Eb):\n",
    "    '''\n",
    "    T: Temperature\n",
    "    ens0: energies of initial state in a numpy array\n",
    "    ens1: energies of transition state in a numpy array\n",
    "    Eb: Transition state barrier\n",
    "    '''\n",
    "      \n",
    "    k = 8.617e-5   # Boltzmann constant in [eV/K]\n",
    "    h = 4.135e-15  # Planck constant in [eV*s]\n",
    "    \n",
    "    # Calculate partition functions\n",
    "    z0 = np.prod(np.exp(-ens0/(2*k*T)) / (1 - np.exp(-ens0/(k*T))))  # student: z0 = ?\n",
    "    z1 = np.prod(np.exp(-ens1/(2*k*T)) / (1 - np.exp(-ens1/(k*T))))  # student: z1 = ?\n",
    "\n",
    "    # Calculate rate\n",
    "    r = k*T/h * z1/z0 * np.exp(-Eb/(k*T))  # student: r = ?\n",
    "    return r\n",
    "\n",
    "\n",
    "energies = {}\n",
    "for direction in directions:\n",
    "    energies[direction] = []\n",
    "    for ii, index in enumerate([-10, -6]):  # Loop through initial and transition state\n",
    "        # Use loop index as:  ii = 0: Initial, ii = 1: Final\n",
    "        \n",
    "        slab = read('a{}-CINEB.traj'.format(direction), index=index)\n",
    "\n",
    "        slab.set_calculator(EMT())\n",
    "        \n",
    "        vib = Vibrations(slab, \n",
    "                         name='{}_{}-vib'.format(ii, direction),\n",
    "                         indices=[112],  # Atom index to vibrate\n",
    "                         nfree=4, delta=0.01)\n",
    "        vib.run()\n",
    "        en = np.real(vib.get_energies()) + 1e-8 # Get real part of vibrational energies\n",
    "        energies[direction].append(en)\n",
    "        \n",
    "plt.figure()\n",
    "labels = {'01': 'Short Bridge',\n",
    "          '10': 'Long Bridge'}\n",
    "\n",
    "x = np.linspace(100, 700, 50)  # Temperature range in K\n",
    "for direction in directions:\n",
    "    ens0, ens1 = energies[direction]\n",
    "    Eb = barriers[direction]\n",
    "    y = [rate(T, ens0, ens1, Eb) for T in x]\n",
    "    plt.semilogy(x, y, label=labels[direction])\n",
    "plt.legend(loc='best')\n",
    "plt.xlabel('T (K)')\n",
    "plt.ylabel('rate (1/s)')\n",
    "plt.savefig('rates.png')\n",
    "plt.show()"
   ]
  },
  {
   "cell_type": "code",
   "execution_count": null,
   "metadata": {},
   "outputs": [],
   "source": []
  }
 ],
 "metadata": {
  "kernelspec": {
   "display_name": "Python 3",
   "language": "python",
   "name": "python3"
  },
  "language_info": {
   "codemirror_mode": {
    "name": "ipython",
    "version": 3
   },
   "file_extension": ".py",
   "mimetype": "text/x-python",
   "name": "python",
   "nbconvert_exporter": "python",
   "pygments_lexer": "ipython3",
   "version": "3.6.0"
  }
 },
 "nbformat": 4,
 "nbformat_minor": 2
}
