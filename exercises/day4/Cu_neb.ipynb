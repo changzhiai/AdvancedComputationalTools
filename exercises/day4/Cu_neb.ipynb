{
 "cells": [
  {
   "cell_type": "markdown",
   "metadata": {},
   "source": [
    "# Nudge Elastic Band exercise\n",
    "\n",
    "In this exercise we will use the Climbing Image Nudged Elastic Band method to identify transition\n",
    "states for Cu adatom diffusion on Cu(110).\n",
    "\n",
    "We will be using EMT in this exercise, but note that when using DFT methods, NEB easily gets too expensive to run locally, so later in the course we will be submitting these types of calculations to the cluster.\n",
    "\n",
    "## Calculate the lattice of bulk Cu with EMT\n",
    "\n",
    "Perform a series of EMT calculations around the experimental Cu lattice constant and save the calculations to a trajectory. See below for inspiration on how to do this.\n",
    "\n",
    "You can use https://en.wikipedia.org/wiki/Periodic_table_%28crystal_structure%29 and https://en.wikipedia.org/wiki/Lattice_constant to find a good starting value for the lattice parameter of Cu in an FCC lattice. Note that EMT will not find the exact lattice parameter which is known from experiments though!\n",
    "\n",
    "View the files in the ASE gui, and use the Tools/Bulk Modulus functionality to fit an equation of state.\n",
    "\n",
    "Questions:\n",
    "* What is the lattice constant and bulk modulus with EMT?\n",
    "* What is the energy per atom of bulk Cu in EMT?"
   ]
  },
  {
   "cell_type": "code",
   "execution_count": 1,
   "metadata": {},
   "outputs": [
    {
     "name": "stdout",
     "output_type": "stream",
     "text": [
      "Writing Cu_fcc.py\n"
     ]
    }
   ],
   "source": [
    "%%writefile Cu_fcc.py\n",
    "import numpy as np\n",
    "\n",
    "from ase import Atoms\n",
    "from ase.io.trajectory import Trajectory \n",
    "from ase.calculators.emt import EMT\n",
    "from ase.build import bulk\n",
    "\n",
    "a = 3.7  #  trial lattice constant\n",
    "atoms = bulk('Cu', crystalstructure='fcc', a=a, cubic=True)\n",
    "calc = EMT()\n",
    "atoms.set_calculator(calc)\n",
    "\n",
    "traj = Trajectory('bulk-relax.traj', mode='w', atoms=atoms)\n",
    "\n",
    "scales = np.linspace(0.92, 1.08, 15)  # modify the lattice parameter by +/- 8% in 15 steps\n",
    "\n",
    "for i, scale in enumerate(scales):\n",
    "    atoms.set_cell(scale * np.array((a, a, a)), scale_atoms=True)\n",
    "    e = atoms.get_potential_energy()\n",
    "    traj.write()\n",
    "    print('New a: {:.3f}\\tEnergy: {:.3f}'.format(scale*a, e))"
   ]
  },
  {
   "cell_type": "code",
   "execution_count": 3,
   "metadata": {},
   "outputs": [
    {
     "name": "stdout",
     "output_type": "stream",
     "text": [
      "7289262.hnode2\r\n"
     ]
    }
   ],
   "source": [
    "!qsub.py -p 8 -t 1 Cu_fcc.py"
   ]
  },
  {
   "cell_type": "code",
   "execution_count": 7,
   "metadata": {},
   "outputs": [
    {
     "name": "stdout",
     "output_type": "stream",
     "text": [
      "3.5885955975046637\n"
     ]
    }
   ],
   "source": [
    "a0 = 46.214**(1/3) #lattice constant\n",
    "print(a)"
   ]
  },
  {
   "cell_type": "code",
   "execution_count": 10,
   "metadata": {},
   "outputs": [
    {
     "name": "stdout",
     "output_type": "stream",
     "text": [
      "-0.007\n"
     ]
    }
   ],
   "source": [
    "E = -0.028/4 #energy per atom\n",
    "print(E)"
   ]
  },
  {
   "cell_type": "code",
   "execution_count": null,
   "metadata": {},
   "outputs": [],
   "source": [
    "from ase.visualize import view\n",
    "from ase.io import read\n",
    "bulk = read('bulk-relax.traj@:')\n",
    "view(bulk)"
   ]
  },
  {
   "cell_type": "markdown",
   "metadata": {},
   "source": [
    "## Set up a Cu(110) surface using the ase.build.surface module\n",
    "\n",
    "In the following, we will set up a Cu(110) surface with a Cu adatom, see the below script for inspiration.\n",
    "\n",
    "Question:\n",
    "* What is the reaction energy of $$\\text{Cu(bulk)} + \\text{Cu(110)} \\rightarrow \\text{Cu@Cu(110)}$$ where Cu@Cu(110) is the (110) surface with an adatom."
   ]
  },
  {
   "cell_type": "code",
   "execution_count": 15,
   "metadata": {},
   "outputs": [
    {
     "name": "stdout",
     "output_type": "stream",
     "text": [
      "      Step     Time          Energy         fmax\n",
      "BFGS:    0 11:04:33       23.801325        1.4400\n",
      "BFGS:    1 11:04:33       23.760709        1.4688\n",
      "BFGS:    2 11:04:33       23.681782        1.5253\n",
      "BFGS:    3 11:04:33       23.602891        1.5818\n",
      "BFGS:    4 11:04:33       23.524061        1.6350\n",
      "BFGS:    5 11:04:33       23.445397        1.6813\n",
      "BFGS:    6 11:04:33       23.367179        1.7214\n",
      "BFGS:    7 11:04:33       23.289632        1.7571\n",
      "BFGS:    8 11:04:34       23.212961        1.7882\n",
      "BFGS:    9 11:04:34       23.137428        1.8134\n",
      "BFGS:   10 11:04:34       23.063368        1.8310\n",
      "BFGS:   11 11:04:34       22.991194        1.8396\n",
      "BFGS:   12 11:04:34       22.921396        1.8377\n",
      "BFGS:   13 11:04:34       22.854534        1.8238\n",
      "BFGS:   14 11:04:34       22.791244        1.7963\n",
      "BFGS:   15 11:04:34       22.732236        1.7536\n",
      "BFGS:   16 11:04:35       22.678297        1.6935\n",
      "BFGS:   17 11:04:35       22.630288        1.6138\n",
      "BFGS:   18 11:04:35       22.589112        1.5127\n",
      "BFGS:   19 11:04:35       22.555646        1.3890\n",
      "BFGS:   20 11:04:35       22.530596        1.2423\n",
      "BFGS:   21 11:04:35       22.514170        1.0740\n",
      "BFGS:   22 11:04:35       22.504825        0.8896\n",
      "BFGS:   23 11:04:35       22.498363        0.8330\n",
      "BFGS:   24 11:04:36       22.469951        0.7096\n",
      "BFGS:   25 11:04:36       22.432250        0.6676\n",
      "BFGS:   26 11:04:36       22.396528        0.7374\n",
      "BFGS:   27 11:04:36       22.350865        0.8499\n",
      "BFGS:   28 11:04:36       22.288894        0.9323\n",
      "BFGS:   29 11:04:36       22.211679        0.9101\n",
      "BFGS:   30 11:04:36       22.136865        0.7612\n",
      "BFGS:   31 11:04:36       22.060277        0.6476\n",
      "BFGS:   32 11:04:37       22.018239        0.8248\n",
      "BFGS:   33 11:04:37       21.998069        0.8346\n",
      "BFGS:   34 11:04:37       21.959661        0.7052\n",
      "BFGS:   35 11:04:37       21.928190        0.4528\n",
      "BFGS:   36 11:04:37       21.903424        0.2465\n",
      "BFGS:   37 11:04:37       21.892845        0.2380\n",
      "BFGS:   38 11:04:37       21.882141        0.1814\n",
      "BFGS:   39 11:04:37       21.870268        0.1503\n",
      "BFGS:   40 11:04:38       21.859725        0.1066\n",
      "BFGS:   41 11:04:38       21.854702        0.0866\n",
      "BFGS:   42 11:04:38       21.851855        0.0890\n",
      "BFGS:   43 11:04:38       21.847927        0.1091\n",
      "BFGS:   44 11:04:38       21.843585        0.0979\n",
      "BFGS:   45 11:04:38       21.840718        0.0520\n",
      "BFGS:   46 11:04:38       21.839549        0.0481\n",
      "BFGS:   47 11:04:38       21.838874        0.0408\n",
      "BFGS:   48 11:04:38       21.838141        0.0285\n",
      "BFGS:   49 11:04:39       21.837538        0.0226\n",
      "BFGS:   50 11:04:39       21.837219        0.0276\n",
      "BFGS:   51 11:04:39       21.837034        0.0257\n",
      "BFGS:   52 11:04:39       21.836820        0.0208\n",
      "BFGS:   53 11:04:39       21.836576        0.0156\n",
      "BFGS:   54 11:04:39       21.836401        0.0176\n",
      "BFGS:   55 11:04:39       21.836306        0.0195\n",
      "BFGS:   56 11:04:39       21.836229        0.0170\n",
      "BFGS:   57 11:04:39       21.836133        0.0104\n",
      "BFGS:   58 11:04:40       21.836048        0.0107\n",
      "BFGS:   59 11:04:40       21.836005        0.0106\n",
      "BFGS:   60 11:04:40       21.835987        0.0093\n"
     ]
    }
   ],
   "source": [
    "import numpy as np\n",
    "\n",
    "from ase import Atoms\n",
    "from ase.calculators.emt import EMT\n",
    "from ase.optimize import BFGS\n",
    "from ase.build.surface import fcc110, add_adsorbate\n",
    "from ase.constraints import FixAtoms\n",
    "\n",
    "a0 = 3.589 # use calculated lattice constant\n",
    "\n",
    "size = (4, 4, 7)\n",
    "slab = fcc110('Cu', a=a0, size=size, vacuum=7.)\n",
    "cell = slab.get_cell()\n",
    "\n",
    "# optimize the top 4 layers\n",
    "mask = [a.tag > 4 for a in slab]\n",
    "slab.set_constraint(FixAtoms(mask=mask))\n",
    "\n",
    "# add adsorbate where you want it\n",
    "pos = np.array([1, 0])  # Adjust to move around adsorbed Cu atom - offset in (x, y) direction by 1 lattice vector\n",
    "posname = 'a' + ''.join(str(p) for p in pos)  # a00, a10, a01\n",
    "\n",
    "add_adsorbate(slab, 'Cu',\n",
    "              0.7*a0,  # Height above slab\n",
    "              position=pos*a0,  # Position above the Cu slab.\n",
    "              offset=(0.5, 0.5))\n",
    "\n",
    "if 0: # for viewing only. Set to 1 to view, and 0 to ignore\n",
    "    from ase.visualize import view\n",
    "    view(slab)\n",
    "    assert False # Hack to break the execution by raising an error intentionally.\n",
    "\n",
    "# Relax the cell using EMT\n",
    "calc = EMT()\n",
    "slab.set_calculator(calc)\n",
    "\n",
    "dyn = BFGS(slab, trajectory='Cu110_{}.traj'.format(posname))\n",
    "dyn.run(fmax=0.01)\n",
    "e_110 = slab.get_potential_energy()"
   ]
  },
  {
   "cell_type": "markdown",
   "metadata": {},
   "source": [
    "## CI-NEB\n",
    "\n",
    "Use the CI-NEB method to calculate activation energies for Cu adatom diffusion on Cu(110). See the script below for inspiration on how to run the CI-NEB calculation in ASE. The initial and final states are constructed in the above script.\n",
    "\n",
    "You can use the ase-gui to plot minimum energy pathway (MEP) using the command `ase gui CINEB.traj@-10:` and then chose the menu Tools/NEB. Remember that you can run terminal commands in the notebook by starting the line with `!`. Note that the `-10` at the end of the command means \"look at the last 10 images of `CINEB.traj`. The reason we chose 10, is because we chose to have 10 images in total.\n",
    "\n",
    "Questions:\n",
    "* Show a MEP for diffusion in the [0 0 1] direction (hopping over a \"long bridge\")\n",
    "* Show a MEP for diffusion in the [1 -1 0] direction (hopping over a \"short bridge\")\n",
    "* Can you imagine other diffusion steps?"
   ]
  },
  {
   "cell_type": "code",
   "execution_count": 19,
   "metadata": {},
   "outputs": [
    {
     "name": "stdout",
     "output_type": "stream",
     "text": [
      "       Step     Time          Energy         fmax\n",
      "*Force-consistent energies used in optimization.\n",
      "LBFGS:    0 11:12:01       22.557468*       2.3812\n",
      "LBFGS:    1 11:12:02       22.372863*       1.5603\n",
      "LBFGS:    2 11:12:03       22.245220*       0.7550\n",
      "LBFGS:    3 11:12:04       22.192077*       0.2741\n",
      "LBFGS:    4 11:12:05       22.182807*       0.2520\n",
      "LBFGS:    5 11:12:05       22.175051*       0.3478\n",
      "LBFGS:    6 11:12:06       22.162787*       0.4009\n",
      "LBFGS:    7 11:12:07       22.153367*       0.3334\n",
      "LBFGS:    8 11:12:08       22.147752*       0.2001\n",
      "LBFGS:    9 11:12:08       22.143877*       0.2243\n",
      "LBFGS:   10 11:12:09       22.138810*       0.2617\n",
      "LBFGS:   11 11:12:10       22.132439*       0.2058\n",
      "LBFGS:   12 11:12:11       22.128484*       0.1062\n",
      "LBFGS:   13 11:12:12       22.126274*       0.1090\n",
      "LBFGS:   14 11:12:12       22.123829*       0.1116\n",
      "LBFGS:   15 11:12:13       22.121267*       0.1061\n",
      "LBFGS:   16 11:12:14       22.119712*       0.0711\n",
      "       Step     Time          Energy         fmax\n",
      "*Force-consistent energies used in optimization.\n",
      "LBFGS:    0 11:12:14       22.119712*       0.1237\n",
      "LBFGS:    1 11:12:15       22.119584*       0.1189\n",
      "LBFGS:    2 11:12:16       22.119988*       0.0955\n",
      "LBFGS:    3 11:12:16       22.120228*       0.0929\n",
      "LBFGS:    4 11:12:17       22.122531*       0.0689\n",
      "LBFGS:    5 11:12:18       22.123092*       0.0610\n",
      "LBFGS:    6 11:12:19       22.123485*       0.0563\n",
      "LBFGS:    7 11:12:19       22.123879*       0.0532\n",
      "LBFGS:    8 11:12:20       22.124518*       0.0472\n",
      "LBFGS:    9 11:12:21       22.124955*       0.0389\n",
      "LBFGS:   10 11:12:22       22.125189*       0.0295\n",
      "LBFGS:   11 11:12:23       22.125359*       0.0318\n",
      "LBFGS:   12 11:12:23       22.125545*       0.0299\n",
      "LBFGS:   13 11:12:24       22.125652*       0.0198\n"
     ]
    }
   ],
   "source": [
    "import numpy as np\n",
    "\n",
    "from ase.io import read, write\n",
    "from ase.calculators.emt import EMT\n",
    "from ase.neb import NEB\n",
    "from ase.optimize import LBFGS as Optimizer\n",
    "\n",
    "initial = read('Cu110_a00.traj@-1') # read structure of initial state\n",
    "final = read('Cu110_a01.traj@-1') # read structure of final state\n",
    "\n",
    "# initialize NEB\n",
    "Nimages = 8 # number of images\n",
    "\n",
    "configs = [initial]\n",
    "for i in range(Nimages):\n",
    "    config = initial.copy()\n",
    "    config.set_calculator(EMT())\n",
    "    configs.append(config)\n",
    "configs.append(final)\n",
    "\n",
    "band = NEB(configs)\n",
    "band.interpolate()\n",
    "\n",
    "# optimize NEB\n",
    "relax = Optimizer(band, trajectory='a01-NEB.traj')\n",
    "relax.run(steps=50, fmax=0.1)\n",
    "\n",
    "if 1: # CINEB\n",
    "    ciband = NEB(configs, climb=True)\n",
    "    cirelax = Optimizer(ciband, trajectory='a01-CINEB.traj')\n",
    "    cirelax.run(steps=200, fmax=0.02) "
   ]
  },
  {
   "cell_type": "code",
   "execution_count": 20,
   "metadata": {},
   "outputs": [],
   "source": [
    "!ase gui a01-CINEB.traj@-10:"
   ]
  },
  {
   "cell_type": "markdown",
   "metadata": {},
   "source": [
    "## Vibrational Analysis\n",
    "\n",
    "Calculate vibrational frequencies for the initial state and transition states. See below for inspiration on how to do this.\n",
    "\n",
    "Questions:\n",
    "* How many imaginary modes are there at the initial states and transition states?\n",
    "* Describe the imaginary mode(s) of the transition state?"
   ]
  },
  {
   "cell_type": "code",
   "execution_count": 4,
   "metadata": {},
   "outputs": [
    {
     "name": "stdout",
     "output_type": "stream",
     "text": [
      "---------------------\n",
      "  #    meV     cm^-1\n",
      "---------------------\n",
      "  0    6.0i     48.1i\n",
      "  1   19.3     155.7 \n",
      "  2   22.5     181.7 \n",
      "---------------------\n",
      "Zero-point energy: 0.021 eV\n"
     ]
    }
   ],
   "source": [
    "import numpy as np\n",
    "\n",
    "from ase import Atoms\n",
    "from ase.calculators.emt import EMT\n",
    "from ase.vibrations import Vibrations\n",
    "\n",
    "from ase.io import read\n",
    "\n",
    "#slab = read('Cu110_a00.traj@-1') # read initial \n",
    "#slab = read('a10-CINEB.traj@-6') # reaad the trnsition state (the image at the saddle point)\n",
    "slab = read('a01-CINEB.traj@-6') # reaad the trnsition state (the image at the saddle point)\n",
    "slab.set_calculator(EMT())\n",
    "\n",
    "vibindices = [atom.tag < 1 for atom in slab] # vibrate only atoms with tag < 0\n",
    "                                             # (here it means: vibrate only adatom)\n",
    "vibindices = np.array(vibindices).nonzero()[0] # extract indices of atoms to be vibrated\n",
    "\n",
    "vib = Vibrations(slab, \n",
    "                 name='transition_a01-vib', # Can be a good idea to adjust this name, for different systems\n",
    "                 indices=vibindices, nfree=4, delta=0.01) # set up vibrational analysis calculation\n",
    "                 # slab - Atoms object for which we are running vib\n",
    "                 # indices - indices of atoms to be vibrated\n",
    "                 # nfree - method; 4 displacements (see Wikipedia: five-point stencil)\n",
    "                 # delta - displacement\n",
    "                 # See documentation for Vibrations: https://wiki.fysik.dtu.dk/ase/ase/vibrations/vibrations.html\n",
    "vib.run() # run vibrational analysis calculation\n",
    "vib.summary() # show vibrational modes' wavenumbers\n",
    "\n",
    "for i in range(3):\n",
    "    vib.write_mode(i) # write modes\n",
    "\n",
    "#    You can visualize normal modes with\n",
    "#         ase gui vib.x.traj\n",
    "#    in the console, where x is the mode number (0, 1 or 2)"
   ]
  },
  {
   "cell_type": "code",
   "execution_count": 32,
   "metadata": {},
   "outputs": [],
   "source": [
    "!ase gui transition_a01-vib.1.traj"
   ]
  },
  {
   "cell_type": "markdown",
   "metadata": {},
   "source": [
    "## Rate Analysis\n",
    "Use transition state theory to estimate the rate of atom hopping in the [1 -1 0] and [0 0 1] directions as function of temperature.\n",
    "\n",
    "Plot this estimate as function of temperature."
   ]
  },
  {
   "cell_type": "code",
   "execution_count": 2,
   "metadata": {},
   "outputs": [
    {
     "data": {
      "image/png": "[encoded data removed]",
      "text/plain": [
       "<Figure size 432x288 with 1 Axes>"
      ]
     },
     "metadata": {
      "needs_background": "light"
     },
     "output_type": "display_data"
    }
   ],
   "source": [
    "%matplotlib inline\n",
    "import numpy as np\n",
    "from ase.vibrations import Vibrations\n",
    "from ase.io import read\n",
    "from ase.calculators.emt import EMT\n",
    "import matplotlib.pyplot as plt\n",
    "\n",
    "# Calculated barriers\n",
    "barriers = {'01': 0.290 , '10': 0.832}\n",
    "\n",
    "directions = ['01', '10']\n",
    "\n",
    "def rate(T, ens0, ens1, Eb):\n",
    "    '''\n",
    "    T: Temperature\n",
    "    ens0: energies of initial state in a numpy array\n",
    "    ens1: energies of transition state in a numpy array\n",
    "    Eb: Transition state barrier\n",
    "    '''\n",
    "      \n",
    "    k = 8.617e-5   # Boltzmann constant in [eV/K]\n",
    "    h = 4.135e-15  # Planck constant in [eV*s]\n",
    "    \n",
    "    # Calculate partition functions\n",
    "    z0 = np.sum(np.exp(-ens0/(k*T))) #initial state\n",
    "    z1 = np.sum(np.exp(-ens1/(k*T))) #transition state\n",
    "\n",
    "    # Calculate rate\n",
    "    r = (z1/z0)*(k*T/h)*np.exp(-Eb/(k*T))\n",
    "    return r\n",
    "\n",
    "\n",
    "energies = {}\n",
    "for direction in directions:\n",
    "    energies[direction] = []\n",
    "    for ii, index in enumerate([-10, -6]):  # Loop through initial and transition state\n",
    "        # Use loop index as:  ii = 0: Initial, ii = 1: Final\n",
    "        \n",
    "        slab = read('a{}-CINEB.traj'.format(direction), index=index)\n",
    "\n",
    "        slab.set_calculator(EMT())\n",
    "        \n",
    "        vib = Vibrations(slab, \n",
    "                         name='{}_{}-vib'.format(ii, direction),\n",
    "                         indices=[112],  # Atom index to vibrate\n",
    "                         nfree=4, delta=0.01)\n",
    "        vib.run()\n",
    "        en = np.real(vib.get_energies())  # Get real part of vibrational energies\n",
    "        energies[direction].append(en)\n",
    "        \n",
    "plt.figure()\n",
    "labels = {'01': 'Short Bridge',\n",
    "          '10': 'Long Bridge'}\n",
    "\n",
    "x = np.linspace(100, 700, 50)  # Temperature range in K\n",
    "for direction in directions:\n",
    "    ens0, ens1 = energies[direction]\n",
    "    Eb = barriers[direction]\n",
    "    y = [rate(T, ens0, ens1, Eb) for T in x]\n",
    "    plt.semilogy(x, y, label=labels[direction])\n",
    "plt.legend(loc='best')\n",
    "plt.xlabel('T (K)')\n",
    "plt.ylabel('rate (1/s)')\n",
    "plt.savefig('rates.png')\n",
    "plt.show()"
   ]
  },
  {
   "cell_type": "code",
   "execution_count": null,
   "metadata": {},
   "outputs": [],
   "source": []
  }
 ],
 "metadata": {
  "kernelspec": {
   "display_name": "Python 3",
   "language": "python",
   "name": "python3"
  },
  "language_info": {
   "codemirror_mode": {
    "name": "ipython",
    "version": 3
   },
   "file_extension": ".py",
   "mimetype": "text/x-python",
   "name": "python",
   "nbconvert_exporter": "python",
   "pygments_lexer": "ipython3",
   "version": "3.7.3"
  }
 },
 "nbformat": 4,
 "nbformat_minor": 2
}
