{
 "cells": [
  {
   "cell_type": "markdown",
   "metadata": {
    "ein.tags": "worksheet-0",
    "slideshow": {
     "slide_type": "-"
    }
   },
   "source": [
    "# Genetic algorithm search for perovskites for water splitting"
   ]
  },
  {
   "cell_type": "markdown",
   "metadata": {
    "ein.tags": "worksheet-0",
    "slideshow": {
     "slide_type": "-"
    }
   },
   "source": [
    "We will use a genetic algorithm (GA) to predict the best perovskite for water splitting.\n",
    "\n",
    "## Background\n",
    "\n",
    "[Castelli et al](http://xlink.rsc.org/?DOI=c2ee22341d) performed DFT screening of ~19000 perovskite materials. Only a small number of the calculated candidate materials (~20) were found to be sufficiently interesting to warrant further experimental investigation. A genetic algorithm could reduce the number of calculations required to locate the interesting candidates. We will try to make 19000 into ?\n",
    "\n",
    "![split-water](images/split-water.png)\n",
    "\n",
    "The data is publicly [available](https://cmr.fysik.dtu.dk/cubic_perovskites/cubic_perovskites.html#cubic-perovskites), so we can test how few candidates we can get away with calculating for discovering the best candidates. This assignment is similar to that performed by [Jain et al.](http://link.springer.com/10.1007/s10853-013-7448-9). Note we will use the database to look up the results of the calculations, we do not do any DFT calculations in this exercise. It is only a matter of trying to run and optimize the GA.\n",
    "\n",
    "Start by downloading the database"
   ]
  },
  {
   "cell_type": "code",
   "execution_count": 1,
   "metadata": {
    "autoscroll": false,
    "ein.hycell": false,
    "ein.tags": "worksheet-0",
    "slideshow": {
     "slide_type": "-"
    }
   },
   "outputs": [
    {
     "name": "stdout",
     "output_type": "stream",
     "text": [
      "--2018-10-31 09:07:50--  https://cmr.fysik.dtu.dk/_downloads/cubic_perovskites.db\n",
      "Resolving cmr.fysik.dtu.dk... 130.225.86.24, 2001:878:200:2010:3::24\n",
      "Connecting to cmr.fysik.dtu.dk|130.225.86.24|:443... connected.\n",
      "HTTP request sent, awaiting response... 200 OK\n",
      "Length: 47226880 (45M) [text/plain]\n",
      "Saving to: `cubic_perovskites.db'\n",
      "\n",
      "100%[======================================>] 47,226,880  84.0M/s   in 0.5s    \n",
      "\n",
      "2018-10-31 09:07:51 (84.0 MB/s) - `cubic_perovskites.db' saved [47226880/47226880]\n",
      "\n"
     ]
    }
   ],
   "source": [
    "!wget https://cmr.fysik.dtu.dk/_downloads/cubic_perovskites.db"
   ]
  },
  {
   "cell_type": "markdown",
   "metadata": {
    "ein.tags": "worksheet-0",
    "slideshow": {
     "slide_type": "-"
    }
   },
   "source": [
    "## Introduction to the database\n",
    "We will try and browse through the data a bit to get a feel for what is inside the database. It contains some calculated properties of cubic perovskites, we will use it as a reference when we try to identify the best perovskite for water splitting. Along with the perovskite compounds, the database also contains reference calculations of the elements in their standard states. We start by connecting to the database (more info on the `ase db` module can be found [here]( https://wiki.fysik.dtu.dk/ase/ase/db/db.html#module-ase.db)), and inspecting a single row:"
   ]
  },
  {
   "cell_type": "code",
   "execution_count": 2,
   "metadata": {
    "autoscroll": false,
    "ein.hycell": false,
    "ein.tags": "worksheet-0",
    "slideshow": {
     "slide_type": "-"
    }
   },
   "outputs": [],
   "source": [
    "from ase.db import connect\n",
    "db = connect('cubic_perovskites.db')\n",
    "row = next(db.select())\n",
    "#vars(row)"
   ]
  },
  {
   "cell_type": "markdown",
   "metadata": {
    "ein.tags": "worksheet-0",
    "slideshow": {
     "slide_type": "-"
    }
   },
   "source": [
    "Each row of the database has some key-value pairs, which are stored explicitly, as well as some basic information which is always stored, recording how the data was calculated. Below are some values that we will have use for in this exercise.\n",
    "\n",
    "- heat_of_formation_all\n",
    "- gllbsc_dir_gap\n",
    "- gllbsc_ind_gap\n",
    "- CB_ind, CB_dir\n",
    "- VB_ind, VB_dir\n"
   ]
  },
  {
   "cell_type": "markdown",
   "metadata": {
    "ein.tags": "worksheet-0",
    "slideshow": {
     "slide_type": "-"
    }
   },
   "source": [
    "Each row also has a `toatoms()` method, which lets us extract an ase atoms object from the row."
   ]
  },
  {
   "cell_type": "code",
   "execution_count": 4,
   "metadata": {
    "autoscroll": false,
    "ein.hycell": false,
    "ein.tags": "worksheet-0",
    "slideshow": {
     "slide_type": "-"
    }
   },
   "outputs": [],
   "source": [
    "from ase.visualize import view\n",
    "view(row.toatoms())"
   ]
  },
  {
   "cell_type": "markdown",
   "metadata": {
    "ein.tags": "worksheet-0",
    "slideshow": {
     "slide_type": "-"
    }
   },
   "source": [
    "When doing any kind of data analysis, the first step is always to become familiar with the data in question, on a basic level. The `select()` method of the database applies a query to the database and returns an iterator of all the rows matching that query. To select all rows with a user of `einstein`, we would type `db.select(user='einstein')`. To select all rows with a gllbsc direct gap greater than 0.5 eV, we would type `db.select('gllbsc_dir_gap>0.5')`.\n",
    "Counting the number of hits can be be done using `db.count(key=value)` for some key-value pair.\n",
    "\n",
    "How many rows are there in the database? \n"
   ]
  },
  {
   "cell_type": "code",
   "execution_count": 11,
   "metadata": {
    "autoscroll": false,
    "ein.hycell": false,
    "ein.tags": "worksheet-0",
    "slideshow": {
     "slide_type": "-"
    }
   },
   "outputs": [
    {
     "data": {
      "text/plain": [
       "<generator object Database.select at 0x7fdfa7b9edb0>"
      ]
     },
     "execution_count": 11,
     "metadata": {},
     "output_type": "execute_result"
    }
   ],
   "source": [
    "db.select('gllbsc_dir_gap>1.7')"
   ]
  },
  {
   "cell_type": "code",
   "execution_count": 14,
   "metadata": {},
   "outputs": [
    {
     "data": {
      "text/plain": [
       "0"
      ]
     },
     "execution_count": 14,
     "metadata": {},
     "output_type": "execute_result"
    }
   ],
   "source": [
    "db.count(key='gllbsc_dir_gap>1.7')"
   ]
  },
  {
   "cell_type": "markdown",
   "metadata": {
    "ein.tags": "worksheet-0",
    "slideshow": {
     "slide_type": "-"
    }
   },
   "source": [
    "The structures in the database were generated from the general formula ABX, and then varying A, B and X. X represents the anions.\n",
    "\n",
    "The A, B and X is encoded in values of the keys `A_ion`, `B_ion` and `anion` respectively, i.e. `row.A_ion -> 'Ti'`.\n",
    "\n",
    "1. Try to identify the A, B and X elements that was used for the study.\n",
    "2. By making all possible combinations of both A, B, X, how many structures could be generated in total? (A = B are allowed)\n",
    "3. Make two lists called `AB_ions` and `anions` respectively that holds the possibilities for `A`, `B` and `X`. It will be needed to run the GA."
   ]
  },
  {
   "cell_type": "code",
   "execution_count": 3,
   "metadata": {
    "autoscroll": false,
    "ein.hycell": false,
    "ein.tags": "worksheet-0",
    "scrolled": true,
    "slideshow": {
     "slide_type": "-"
    }
   },
   "outputs": [
    {
     "name": "stdout",
     "output_type": "stream",
     "text": [
      "18928\n"
     ]
    }
   ],
   "source": [
    "A_ions, B_ions, anions = set(), set(), set()\n",
    "temp = set()\n",
    "for dct in db.select('anion'):\n",
    "    A_ions.add(dct.A_ion)\n",
    "    B_ions.add(dct.B_ion)\n",
    "    anions.add(dct.anion)\n",
    "AB_ions = list(A_ions)\n",
    "anions = list(anions)\n",
    "print(len(AB_ions)*len(AB_ions)*len(anions))"
   ]
  },
  {
   "cell_type": "markdown",
   "metadata": {
    "ein.tags": "worksheet-0",
    "slideshow": {
     "slide_type": "-"
    }
   },
   "source": [
    "The structures in the database were generated from the general formula ABX, and then varying A, B and X. X represents the anions.\n",
    "\n",
    "The A, B and X is encoded in values of the keys `A_ion`, `B_ion` and `anion` respectively, i.e. `row.A_ion -> 'Ti'`.\n",
    "\n",
    "1. Try to identify the A, B and X elements that was used for the study.\n",
    "2. By making all possible combinations of both A, B, X, how many structures could be generated in total? (A = B are allowed)\n",
    "3. Make two lists called `AB_ions` and `anions` respectively that holds the possibilities for `A`, `B` and `X`. It will be needed to run the GA."
   ]
  },
  {
   "cell_type": "markdown",
   "metadata": {
    "ein.tags": "worksheet-0",
    "slideshow": {
     "slide_type": "-"
    }
   },
   "source": [
    "Taking into account modern day computer power the number of possible candidates does not refrain us from doing a full screening of all combinations. If the number was one or two orders of magnitude higher (easily imagineably by adding more anions or a different class of A/B ions i.e. organic molecules) a full screening would not be feasible. The GA is a good method to use for an optimization problem with a large phase space."
   ]
  },
  {
   "cell_type": "markdown",
   "metadata": {
    "ein.tags": "worksheet-0",
    "slideshow": {
     "slide_type": "-"
    }
   },
   "source": [
    "## About genetic algorithms\n",
    "\n",
    "A GA takes a Darwinistic approach to optimization by maintaining a *population* of solution *candidates* to a problem (e.g.\\ what is the best perovskite for water splitting). The population is evolved to obtain better solutions by mating and mutating selected candidates and putting the fittest *offspring* in the population. The *fitness* of a candidate is a function which, for example, measures the stability or performance of a candidate. Natural selection is used to keep a constant population size by removing the least fit candidates. Mating or *crossover* combine candidates to create offspring with parts from more candidates present, when favorable traits are combined and passed on the population is evolved. Only performing crossover operations risks stagnating the evolution due to a lack of diversity -- performing crossover on very similar candidates is unlikely to create progress when performed repeatedly. *Mutation* induces diversity in the population and thus prevents premature convergence. The figure below gives a simplified outline of the algorithm.\n",
    "\n",
    "![ga-outline](images/ga-outline.png)\n",
    "\n",
    "GAs are generally applicable to areas where traditional optimization by derivative methods are unsuited and a brute force approach is computationally infeasible.\n",
    "\n",
    "Furthermore, the output of a GA run will be a selection of optimized candidates, which often will be preferred over only getting the best candidate, especially taking into account the potential inaccuracy of the employed methods. Thus a GA finds many applications within atomic simulations, and will often be one of the best methods for searching large phase spaces.\n",
    "\n"
   ]
  },
  {
   "cell_type": "markdown",
   "metadata": {
    "ein.tags": "worksheet-0",
    "slideshow": {
     "slide_type": "-"
    }
   },
   "source": [
    "## Start the GA\n",
    "\n",
    "We will start by putting the reference database into local memory. This makes lookup of values of each candidate much faster. Then we will set up another database that will hold the candidates generated by the GA."
   ]
  },
  {
   "cell_type": "code",
   "execution_count": 138,
   "metadata": {
    "autoscroll": false,
    "ein.hycell": false,
    "ein.tags": "worksheet-0",
    "slideshow": {
     "slide_type": "-"
    }
   },
   "outputs": [
    {
     "name": "stdout",
     "output_type": "stream",
     "text": [
      "built ref dictionary\n"
     ]
    }
   ],
   "source": [
    "def build_ref_dict(ref_db):\n",
    "    dct = {}\n",
    "    for row in ref_db.select('anion'):\n",
    "        # Use a key: A-B-X to look up each row\n",
    "        s = '-'.join([row.A_ion, row.B_ion, row.anion])\n",
    "        dct[s] = row\n",
    "    return dct\n",
    "\n",
    "# The reference database are put in local memory for faster lookup\n",
    "ref_dict = build_ref_dict(db)\n",
    "print('built ref dictionary')\n"
   ]
  },
  {
   "cell_type": "markdown",
   "metadata": {
    "ein.tags": "worksheet-0",
    "slideshow": {
     "slide_type": "-"
    }
   },
   "source": [
    "The variables below are needed to initialize the GA"
   ]
  },
  {
   "cell_type": "code",
   "execution_count": 141,
   "metadata": {
    "autoscroll": false,
    "ein.hycell": false,
    "ein.tags": "worksheet-0",
    "slideshow": {
     "slide_type": "-"
    }
   },
   "outputs": [],
   "source": [
    "# File nam\n",
    "!rm ga_water_splitters.db\n",
    "ga_db_file = 'ga_water_splitters.db'\n",
    "\n",
    "# Define the population size\n",
    "pop_size = 50\n",
    "\n",
    "# Phase space should be defined in AB_ions and anions\n",
    "# These variables should be lists"
   ]
  },
  {
   "cell_type": "markdown",
   "metadata": {
    "ein.tags": "worksheet-0",
    "slideshow": {
     "slide_type": "-"
    }
   },
   "source": [
    "Here we initialize the database file that holds information about the GA run."
   ]
  },
  {
   "cell_type": "code",
   "execution_count": 142,
   "metadata": {
    "autoscroll": false,
    "ein.hycell": false,
    "ein.tags": "worksheet-0",
    "slideshow": {
     "slide_type": "-"
    }
   },
   "outputs": [],
   "source": [
    "from ase.ga.data import PrepareDB\n",
    "\n",
    "# Initialize the GA database\n",
    "prep_ga_db = PrepareDB(ga_db_file,\n",
    "                       population_size=pop_size,\n",
    "                       anions=anions, AB_ions=AB_ions)"
   ]
  },
  {
   "cell_type": "markdown",
   "metadata": {
    "ein.tags": "worksheet-0",
    "slideshow": {
     "slide_type": "-"
    }
   },
   "source": [
    "Now we create the initial population by creating random candidates."
   ]
  },
  {
   "cell_type": "code",
   "execution_count": 143,
   "metadata": {
    "autoscroll": false,
    "ein.hycell": false,
    "ein.tags": "worksheet-0",
    "slideshow": {
     "slide_type": "-"
    }
   },
   "outputs": [
    {
     "name": "stdout",
     "output_type": "stream",
     "text": [
      "Generating random population of size 50\n",
      "Done.\n"
     ]
    }
   ],
   "source": [
    "import random\n",
    "\n",
    "# Construct a random starting population\n",
    "print('Generating random population of size {0}'.format(pop_size))\n",
    "start_set = set()\n",
    "for _ in range(pop_size):\n",
    "    # Choose two random from AB_ions and one random from anions\n",
    "    cand = random.sample(AB_ions, 2) + random.sample(anions, 1)\n",
    "    s = '-'.join(cand)\n",
    "    # We don't want duplicates in the starting population\n",
    "    if s in start_set:\n",
    "        continue\n",
    "    start_set.add(s)\n",
    "    # A candidate is added to the database, it is not evaluated (unrelaxed)\n",
    "    prep_ga_db.add_unrelaxed_candidate(ref_dict[s].toatoms(),\n",
    "                                       atoms_string=s)\n",
    "print('Done.')\n"
   ]
  },
  {
   "cell_type": "markdown",
   "metadata": {
    "ein.tags": "worksheet-0",
    "slideshow": {
     "slide_type": "-"
    }
   },
   "source": [
    "Now the initialization of the database file is finished. You can move on to [Run the GA](#Run-the-GA)"
   ]
  },
  {
   "cell_type": "markdown",
   "metadata": {
    "ein.tags": "worksheet-0",
    "slideshow": {
     "slide_type": "-"
    }
   },
   "source": [
    "Run the cell below if *and only if* you need to restart the algorithm. It will delete all the progress in the database file."
   ]
  },
  {
   "cell_type": "code",
   "execution_count": 133,
   "metadata": {
    "autoscroll": false,
    "ein.hycell": false,
    "ein.tags": "worksheet-0",
    "slideshow": {
     "slide_type": "-"
    }
   },
   "outputs": [],
   "source": [
    "import os\n",
    "if os.path.isfile(ga_db_file):\n",
    "    os.remove(ga_db_file)"
   ]
  },
  {
   "cell_type": "markdown",
   "metadata": {
    "ein.tags": "worksheet-0",
    "slideshow": {
     "slide_type": "-"
    }
   },
   "source": [
    "## Run the GA\n",
    "\n",
    "First we need to use a different class for the database."
   ]
  },
  {
   "cell_type": "code",
   "execution_count": 144,
   "metadata": {
    "autoscroll": false,
    "ein.hycell": false,
    "ein.tags": "worksheet-0",
    "slideshow": {
     "slide_type": "-"
    }
   },
   "outputs": [],
   "source": [
    "from ase.ga.data import DataConnection\n",
    "\n",
    "ga_db = DataConnection(ga_db_file)\n"
   ]
  },
  {
   "cell_type": "markdown",
   "metadata": {
    "ein.tags": "worksheet-0",
    "slideshow": {
     "slide_type": "-"
    }
   },
   "source": [
    "Then we will evaluate the starting population. Each candidate is evaluated based on stability (heat of formation), band gap and maximum of valence and minimum of conduction band, they should be positioned at the O2/H2O and H+/H2 potentials respectively. The evaluation of each candidate ends with an assigment of a raw score. The raw score help to determine how fit each candidate is when comparing to the rest of the population. For more information see the function `get_raw_score` in the file ga_help.py"
   ]
  },
  {
   "cell_type": "code",
   "execution_count": 145,
   "metadata": {
    "autoscroll": false,
    "ein.hycell": false,
    "ein.tags": "worksheet-0",
    "slideshow": {
     "slide_type": "-"
    }
   },
   "outputs": [],
   "source": [
    "from ga_help import evaluate, get_evaluated_set\n",
    "\n",
    "# Evaluate the starting population\n",
    "candidates_to_be_added = []\n",
    "for a in ga_db.get_all_unrelaxed_candidates():\n",
    "    evaluate(a, ref_dict)\n",
    "    candidates_to_be_added.append(a)\n",
    "ga_db.add_more_relaxed_candidates(candidates_to_be_added)\n",
    "\n",
    "# Keep track of the candidates that has been evaluated\n",
    "already_evaluated = get_evaluated_set(ga_db_file)\n"
   ]
  },
  {
   "cell_type": "markdown",
   "metadata": {
    "ein.tags": "worksheet-0",
    "slideshow": {
     "slide_type": "-"
    }
   },
   "source": [
    "The algorithm works by maintaining a population of candidates, that is evolved towards the optimal candidates as the algorithm run progresses. Below we initialize the population class."
   ]
  },
  {
   "cell_type": "code",
   "execution_count": 146,
   "metadata": {
    "autoscroll": false,
    "ein.hycell": false,
    "ein.tags": "worksheet-0",
    "slideshow": {
     "slide_type": "-"
    }
   },
   "outputs": [],
   "source": [
    "from ase.ga.standard_comparators import StringComparator\n",
    "from ase.ga.population import Population\n",
    "\n",
    "# Define how to compare two different candidates\n",
    "comp = StringComparator('atoms_string')\n",
    "\n",
    "# The population is kept in the Population instance\n",
    "pop = Population(data_connection=ga_db,\n",
    "                 population_size=pop_size,\n",
    "                 comparator=comp)\n"
   ]
  },
  {
   "cell_type": "markdown",
   "metadata": {
    "ein.tags": "worksheet-0",
    "slideshow": {
     "slide_type": "-"
    }
   },
   "source": [
    "![perovskite](images/perovskite.png)\n",
    "\n",
    "Each candidate is represented by a list of elements `[A, B, X]`. The algorithm will evolve the population not unlike natural evolution by combining and mutating the best candidates in the population to create new candidates better adjusted to fit the environment.\n",
    "\n",
    "Evolution takes place through operators, that are defined as individual classes:\n",
    "- `OnePointListCrossover`\n",
    "- `RandomListMutation`\n",
    "- `NeighborhoodListMutation`\n",
    "- `ListPermutation`\n",
    "- `RandomListCreation`\n",
    "\n",
    "Try and see how each operator works. See below for examples"
   ]
  },
  {
   "cell_type": "code",
   "execution_count": 147,
   "metadata": {
    "autoscroll": false,
    "ein.hycell": false,
    "ein.tags": "worksheet-0",
    "slideshow": {
     "slide_type": "-"
    }
   },
   "outputs": [
    {
     "name": "stdout",
     "output_type": "stream",
     "text": [
      "Sb-W-O3\n",
      "RandomListMutation: Parent 67\n",
      "Ni-W-O3\n"
     ]
    }
   ],
   "source": [
    "from list_operators import RandomListMutation\n",
    "from ga_help import get_atoms_string\n",
    "\n",
    "# Two candidates are selected from the population as parents\n",
    "a1, a2 = pop.get_two_candidates(with_history=False)\n",
    "\n",
    "print(get_atoms_string(a1))\n",
    "\n",
    "# Initialize an operator\n",
    "random_operator = RandomListMutation([AB_ions, anions])\n",
    "\n",
    "# Use the get_new_individual method to get a new candidate\n",
    "# Two parents are accepted even though only one is returned\n",
    "offspring, desc = random_operator.get_new_individual([a1, a2])\n",
    "print(desc)\n",
    "print(get_atoms_string(offspring))"
   ]
  },
  {
   "cell_type": "code",
   "execution_count": 148,
   "metadata": {
    "autoscroll": false,
    "ein.hycell": false,
    "ein.tags": "worksheet-0",
    "slideshow": {
     "slide_type": "-"
    }
   },
   "outputs": [
    {
     "name": "stdout",
     "output_type": "stream",
     "text": [
      "Cs-Te-O3 Ba-Sr-O3\n",
      "OnePointListCrossover: Parents 51 75\n",
      "Cs-Sr-O3\n"
     ]
    }
   ],
   "source": [
    "from list_operators import OnePointListCrossover\n",
    "\n",
    "# Get two candidates from the population\n",
    "a1, a2 = pop.get_two_candidates(with_history=False)\n",
    "\n",
    "print(get_atoms_string(a1), get_atoms_string(a2))\n",
    "\n",
    "# Initialize an operator\n",
    "crossover_operator = OnePointListCrossover()\n",
    "\n",
    "# The crossover takes two candidates as input and combine to produce offspring\n",
    "offspring, desc = crossover_operator.get_new_individual([a1, a2])\n",
    "print(desc)\n",
    "print(get_atoms_string(offspring))"
   ]
  },
  {
   "cell_type": "markdown",
   "metadata": {
    "ein.tags": "worksheet-0",
    "slideshow": {
     "slide_type": "-"
    }
   },
   "source": [
    "Now we put all the available operators together with probabilities of how often they are selected to produce new candidates."
   ]
  },
  {
   "cell_type": "code",
   "execution_count": 149,
   "metadata": {
    "autoscroll": false,
    "ein.hycell": false,
    "ein.tags": "worksheet-0",
    "slideshow": {
     "slide_type": "-"
    }
   },
   "outputs": [],
   "source": [
    "from ase.ga.offspring_creator import OperationSelector\n",
    "from list_operators import OnePointListCrossover, RandomListMutation,\\\n",
    "    NeighborhoodListMutation, ListPermutation, RandomListCreation\n",
    "\n",
    "# Specify the procreation operators for the algorithm\n",
    "# Try and play with the mutation operators that move to nearby\n",
    "# places in the periodic table\n",
    "oclist = ([1, 3, 1, 1, 1], [RandomListMutation([AB_ions, anions]),\n",
    "                            OnePointListCrossover(),\n",
    "                            NeighborhoodListMutation([AB_ions, anions]),\n",
    "                            RandomListCreation([AB_ions, anions], [2, 1]),\n",
    "                            ListPermutation([AB_ions, anions])])\n",
    "operation_selector = OperationSelector(*oclist)"
   ]
  },
  {
   "cell_type": "markdown",
   "metadata": {
    "ein.tags": "worksheet-0",
    "slideshow": {
     "slide_type": "-"
    }
   },
   "source": [
    "Now we write the loop that in essence is the algorithm. Try and run the cell below a couple of times and see that fitter candidates are produced as the population evolves. Then go to the [Analysis](#analysis) section to check how the GA is performing and then come back here and run it some more."
   ]
  },
  {
   "cell_type": "code",
   "execution_count": 150,
   "metadata": {
    "autoscroll": false,
    "ein.hycell": false,
    "ein.tags": "worksheet-0",
    "slideshow": {
     "slide_type": "-"
    }
   },
   "outputs": [
    {
     "name": "stdout",
     "output_type": "stream",
     "text": [
      "Number of evaluated candidates in database: 49\n"
     ]
    },
    {
     "ename": "IndexError",
     "evalue": "Cannot choose from an empty sequence",
     "output_type": "error",
     "traceback": [
      "\u001b[0;31m---------------------------------------------------------------------------\u001b[0m",
      "\u001b[0;31mValueError\u001b[0m                                Traceback (most recent call last)",
      "\u001b[0;32m/appl/python/3.6.0/lib/python3.6/random.py\u001b[0m in \u001b[0;36mchoice\u001b[0;34m(self, seq)\u001b[0m\n\u001b[1;32m    254\u001b[0m         \u001b[0;32mtry\u001b[0m\u001b[0;34m:\u001b[0m\u001b[0;34m\u001b[0m\u001b[0m\n\u001b[0;32m--> 255\u001b[0;31m             \u001b[0mi\u001b[0m \u001b[0;34m=\u001b[0m \u001b[0mself\u001b[0m\u001b[0;34m.\u001b[0m\u001b[0m_randbelow\u001b[0m\u001b[0;34m(\u001b[0m\u001b[0mlen\u001b[0m\u001b[0;34m(\u001b[0m\u001b[0mseq\u001b[0m\u001b[0;34m)\u001b[0m\u001b[0;34m)\u001b[0m\u001b[0;34m\u001b[0m\u001b[0m\n\u001b[0m\u001b[1;32m    256\u001b[0m         \u001b[0;32mexcept\u001b[0m \u001b[0mValueError\u001b[0m\u001b[0;34m:\u001b[0m\u001b[0;34m\u001b[0m\u001b[0m\n",
      "\u001b[0;32m/appl/python/3.6.0/lib/python3.6/random.py\u001b[0m in \u001b[0;36m_randbelow\u001b[0;34m(self, n, int, maxsize, type, Method, BuiltinMethod)\u001b[0m\n\u001b[1;32m    231\u001b[0m             \u001b[0mk\u001b[0m \u001b[0;34m=\u001b[0m \u001b[0mn\u001b[0m\u001b[0;34m.\u001b[0m\u001b[0mbit_length\u001b[0m\u001b[0;34m(\u001b[0m\u001b[0;34m)\u001b[0m  \u001b[0;31m# don't use (n-1) here because n can be 1\u001b[0m\u001b[0;34m\u001b[0m\u001b[0m\n\u001b[0;32m--> 232\u001b[0;31m             \u001b[0mr\u001b[0m \u001b[0;34m=\u001b[0m \u001b[0mgetrandbits\u001b[0m\u001b[0;34m(\u001b[0m\u001b[0mk\u001b[0m\u001b[0;34m)\u001b[0m          \u001b[0;31m# 0 <= r < 2**k\u001b[0m\u001b[0;34m\u001b[0m\u001b[0m\n\u001b[0m\u001b[1;32m    233\u001b[0m             \u001b[0;32mwhile\u001b[0m \u001b[0mr\u001b[0m \u001b[0;34m>=\u001b[0m \u001b[0mn\u001b[0m\u001b[0;34m:\u001b[0m\u001b[0;34m\u001b[0m\u001b[0m\n",
      "\u001b[0;31mValueError\u001b[0m: number of bits must be greater than zero",
      "\nDuring handling of the above exception, another exception occurred:\n",
      "\u001b[0;31mIndexError\u001b[0m                                Traceback (most recent call last)",
      "\u001b[0;32m<ipython-input-150-a8f833173f6a>\u001b[0m in \u001b[0;36m<module>\u001b[0;34m()\u001b[0m\n\u001b[1;32m     21\u001b[0m \u001b[0;34m\u001b[0m\u001b[0m\n\u001b[1;32m     22\u001b[0m         \u001b[0;31m# Do the operation\u001b[0m\u001b[0;34m\u001b[0m\u001b[0;34m\u001b[0m\u001b[0m\n\u001b[0;32m---> 23\u001b[0;31m         \u001b[0moffspring\u001b[0m \u001b[0;34m=\u001b[0m \u001b[0mop\u001b[0m\u001b[0;34m.\u001b[0m\u001b[0mget_new_individual\u001b[0m\u001b[0;34m(\u001b[0m\u001b[0;34m[\u001b[0m\u001b[0ma1\u001b[0m\u001b[0;34m,\u001b[0m \u001b[0ma2\u001b[0m\u001b[0;34m]\u001b[0m\u001b[0;34m)\u001b[0m\u001b[0;34m\u001b[0m\u001b[0m\n\u001b[0m\u001b[1;32m     24\u001b[0m \u001b[0;34m\u001b[0m\u001b[0m\n\u001b[1;32m     25\u001b[0m         \u001b[0;31m# Get the candidate as a string to check if it has already\u001b[0m\u001b[0;34m\u001b[0m\u001b[0;34m\u001b[0m\u001b[0m\n",
      "\u001b[0;32m~/energytools18/day8/list_operators.py\u001b[0m in \u001b[0;36mget_new_individual\u001b[0;34m(self, parents)\u001b[0m\n\u001b[1;32m    138\u001b[0m                     \u001b[0;32mbreak\u001b[0m\u001b[0;34m\u001b[0m\u001b[0m\n\u001b[1;32m    139\u001b[0m \u001b[0;34m\u001b[0m\u001b[0m\n\u001b[0;32m--> 140\u001b[0;31m         \u001b[0ml\u001b[0m\u001b[0;34m[\u001b[0m\u001b[0mitbm\u001b[0m\u001b[0;34m]\u001b[0m \u001b[0;34m=\u001b[0m \u001b[0mrandom\u001b[0m\u001b[0;34m.\u001b[0m\u001b[0mchoice\u001b[0m\u001b[0;34m(\u001b[0m\u001b[0melems\u001b[0m\u001b[0;34m)\u001b[0m\u001b[0;34m\u001b[0m\u001b[0m\n\u001b[0m\u001b[1;32m    141\u001b[0m \u001b[0;34m\u001b[0m\u001b[0m\n\u001b[1;32m    142\u001b[0m         \u001b[0mindi\u001b[0m\u001b[0;34m.\u001b[0m\u001b[0minfo\u001b[0m\u001b[0;34m[\u001b[0m\u001b[0;34m'key_value_pairs'\u001b[0m\u001b[0;34m]\u001b[0m\u001b[0;34m[\u001b[0m\u001b[0mself\u001b[0m\u001b[0;34m.\u001b[0m\u001b[0midentifier\u001b[0m\u001b[0;34m]\u001b[0m \u001b[0;34m=\u001b[0m \u001b[0mself\u001b[0m\u001b[0;34m.\u001b[0m\u001b[0mseparator\u001b[0m\u001b[0;34m.\u001b[0m\u001b[0mjoin\u001b[0m\u001b[0;34m(\u001b[0m\u001b[0ml\u001b[0m\u001b[0;34m)\u001b[0m\u001b[0;34m\u001b[0m\u001b[0m\n",
      "\u001b[0;32m/appl/python/3.6.0/lib/python3.6/random.py\u001b[0m in \u001b[0;36mchoice\u001b[0;34m(self, seq)\u001b[0m\n\u001b[1;32m    255\u001b[0m             \u001b[0mi\u001b[0m \u001b[0;34m=\u001b[0m \u001b[0mself\u001b[0m\u001b[0;34m.\u001b[0m\u001b[0m_randbelow\u001b[0m\u001b[0;34m(\u001b[0m\u001b[0mlen\u001b[0m\u001b[0;34m(\u001b[0m\u001b[0mseq\u001b[0m\u001b[0;34m)\u001b[0m\u001b[0;34m)\u001b[0m\u001b[0;34m\u001b[0m\u001b[0m\n\u001b[1;32m    256\u001b[0m         \u001b[0;32mexcept\u001b[0m \u001b[0mValueError\u001b[0m\u001b[0;34m:\u001b[0m\u001b[0;34m\u001b[0m\u001b[0m\n\u001b[0;32m--> 257\u001b[0;31m             \u001b[0;32mraise\u001b[0m \u001b[0mIndexError\u001b[0m\u001b[0;34m(\u001b[0m\u001b[0;34m'Cannot choose from an empty sequence'\u001b[0m\u001b[0;34m)\u001b[0m\u001b[0;34m\u001b[0m\u001b[0m\n\u001b[0m\u001b[1;32m    258\u001b[0m         \u001b[0;32mreturn\u001b[0m \u001b[0mseq\u001b[0m\u001b[0;34m[\u001b[0m\u001b[0mi\u001b[0m\u001b[0;34m]\u001b[0m\u001b[0;34m\u001b[0m\u001b[0m\n\u001b[1;32m    259\u001b[0m \u001b[0;34m\u001b[0m\u001b[0m\n",
      "\u001b[0;31mIndexError\u001b[0m: Cannot choose from an empty sequence"
     ]
    }
   ],
   "source": [
    "from ga_help import set_syms\n",
    "\n",
    "print('Number of evaluated candidates in database: {0}'.format(len(already_evaluated)))\n",
    "worst_raw_score_in_pop = pop.pop[-1].info['key_value_pairs']['raw_score']\n",
    "# Get the largest gaid in db\n",
    "max_id = ga_db.get_largest_in_db('gaid')\n",
    "\n",
    "# This many candidates will be tested in this loop\n",
    "num_cands = 500\n",
    "\n",
    "# Run the algorithm\n",
    "add_later = []\n",
    "for i in range(1, num_cands + 1):\n",
    "    offspring = None\n",
    "    while offspring is None or s in already_evaluated:\n",
    "        # Select parents\n",
    "        a1, a2 = pop.get_two_candidates(with_history=False)\n",
    "        \n",
    "        # Select procreation operator\n",
    "        op = operation_selector.get_operator()\n",
    "        \n",
    "        # Do the operation\n",
    "        offspring = op.get_new_individual([a1, a2])\n",
    "        \n",
    "        # Get the candidate as a string to check if it has already\n",
    "        # been evaluated\n",
    "        s = get_atoms_string(offspring)\n",
    "\n",
    "    # Technical details not important\n",
    "    a3, desc = offspring\n",
    "    set_syms(a3, ref_dict[s])\n",
    "    already_evaluated.add(s)\n",
    "    # We don't save the unrelaxed candidates in this case, due to speed\n",
    "    # So we have to set an artificial confid\n",
    "    # db.add_unrelaxed_candidate(a3, description=desc)\n",
    "    a3.info['confid'] = i + max_id\n",
    "\n",
    "    # Invoke the evaluation\n",
    "    evaluate(a3, ref_dict)\n",
    "\n",
    "    # If the evaluated candidate will enter the population it will be saved\n",
    "    # now, else it is written after the loop terminates\n",
    "    if a3.info['key_value_pairs']['raw_score'] > worst_raw_score_in_pop:\n",
    "        ga_db.add_relaxed_step(a3)\n",
    "\n",
    "        pop.update()\n",
    "        worst_raw_score_in_pop = pop.pop[-1].info['key_value_pairs']['raw_score']\n",
    "    else:\n",
    "        add_later.append(a3)\n",
    "\n",
    "    # Print the progress of the algorithm for every 200 evaluated candidates\n",
    "    if i % 200 == 0:\n",
    "        best = pop.pop[0].info['key_value_pairs']\n",
    "        worst = pop.pop[-1].info['key_value_pairs']\n",
    "        print('After {0} evaluations'.format(i))\n",
    "        print('Best candidate in population:', best['atoms_string'],\n",
    "              best['raw_score'])\n",
    "        print('Worst candidate in population:', worst['atoms_string'],\n",
    "              worst['raw_score'])\n",
    "        print(50 * '-')\n",
    "\n",
    "print('Writing rest of candidates to database (#{0})'.format(len(add_later)))\n",
    "ga_db.add_more_relaxed_candidates(add_later)"
   ]
  },
  {
   "cell_type": "markdown",
   "metadata": {
    "ein.tags": "worksheet-0",
    "slideshow": {
     "slide_type": "-"
    }
   },
   "source": [
    "## Analysis\n",
    "\n",
    "Since all the candidates have previously been calculated we can evaluate the effectiveness of the algorithm. How quickly it discovers the top candidates compared to a random search.\n",
    "\n",
    "![top-candidates](images/candidates.png)\n",
    "\n",
    "First we need to get the raw score of all candidates"
   ]
  },
  {
   "cell_type": "code",
   "execution_count": 129,
   "metadata": {
    "autoscroll": false,
    "ein.hycell": false,
    "ein.tags": "worksheet-0",
    "slideshow": {
     "slide_type": "-"
    }
   },
   "outputs": [],
   "source": [
    "from ga_help import get_raw_score\n",
    "from ase.db import connect\n",
    "from operator import itemgetter\n",
    "\n",
    "def generate_top_list(fname):\n",
    "    ref_db = connect('cubic_perovskites.db')\n",
    "    all_list = []\n",
    "    for row in ref_db.select('anion'):\n",
    "        s = '-'.join([row.A_ion, row.B_ion, row.anion])\n",
    "        all_list.append((s, get_raw_score(row, method='product')))\n",
    "\n",
    "    fd = open(fname, 'w')\n",
    "    # sort the list by the raw score\n",
    "    all_list.sort(key=itemgetter(1), reverse=True)\n",
    "    for st, rs in all_list:\n",
    "        print(st, rs, file=fd)\n",
    "    fd.close()\n",
    "\n",
    "generate_top_list('top_list.txt')\n"
   ]
  },
  {
   "cell_type": "code",
   "execution_count": 130,
   "metadata": {
    "autoscroll": false,
    "ein.hycell": false,
    "ein.tags": "worksheet-0",
    "slideshow": {
     "slide_type": "-"
    }
   },
   "outputs": [
    {
     "name": "stdout",
     "output_type": "stream",
     "text": [
      "Ca-Nb-O2N 200.0\r\n",
      "Ba-Ta-O2N 200.0\r\n",
      "Sr-Ta-O2N 200.0\r\n",
      "La-Ti-O2N 200.0\r\n",
      "Ca-Ta-O2N 200.0\r\n",
      "Sr-Nb-O2N 200.0\r\n",
      "La-Ta-ON2 200.0\r\n",
      "Ag-Ti-O2F 200.0\r\n",
      "Sr-Sn-O3 200.0\r\n",
      "Ba-Sn-O3 200.0\r\n",
      "Sn-Ti-O3 200.0\r\n",
      "Na-V-O3 199.53135739731692\r\n",
      "Ga-Ta-O3 198.08459850688277\r\n",
      "La-Nb-ON2 195.2477506800463\r\n",
      "Y-Ta-ON2 192.15788783046463\r\n",
      "Ba-Ga-O2F 192.15788783046463\r\n",
      "Ba-Nb-O2N 190.9875718040057\r\n",
      "Ca-Sn-O3 188.35290671684973\r\n",
      "Sr-Ge-O3 188.35290671684973\r\n",
      "Ca-Ge-O3 188.35290671684973\r\n"
     ]
    }
   ],
   "source": [
    "# Print out the top 20 candidates and their raw score\n",
    "!head -20 top_list.txt"
   ]
  },
  {
   "cell_type": "markdown",
   "metadata": {
    "ein.tags": "worksheet-0",
    "slideshow": {
     "slide_type": "-"
    }
   },
   "source": [
    "Now we can see how many of the top 20 is found by the current algorithm."
   ]
  },
  {
   "cell_type": "code",
   "execution_count": 131,
   "metadata": {
    "autoscroll": false,
    "ein.hycell": false,
    "ein.tags": "worksheet-0",
    "slideshow": {
     "slide_type": "-"
    }
   },
   "outputs": [
    {
     "name": "stdout",
     "output_type": "stream",
     "text": [
      "# found candidates in top 20: 1. Ga-Ta-O3 evaluated as number: 10\n"
     ]
    }
   ],
   "source": [
    "# Get the top list from the text file top_list.txt\n",
    "f = open('top_list.txt')\n",
    "top_list = []\n",
    "for l in f:\n",
    "    top_list.append(l.split(' ')[0])\n",
    "f.close()\n",
    "\n",
    "# Only consider the top 20\n",
    "top_number = 20\n",
    "top_list = top_list[:top_number]\n",
    "    \n",
    "db = connect(ga_db_file)\n",
    "found = set()\n",
    "i = 0\n",
    "for row in db.select('relaxed=1', sort='gaid'):\n",
    "    i += 1\n",
    "    s = row.atoms_string\n",
    "    if s in top_list and s not in found:\n",
    "        found.add(s)\n",
    "        lf = len(found)\n",
    "        print(f'# found candidates in top {top_number}: {lf}. {s} evaluated as number: {i}')\n"
   ]
  },
  {
   "cell_type": "markdown",
   "metadata": {
    "ein.tags": "worksheet-0",
    "slideshow": {
     "slide_type": "-"
    }
   },
   "source": [
    "Let us compare the performance with a random search. The cell below defines a function that returns the average number of draws it takes to find x number of top candidates [ref](https://math.stackexchange.com/questions/206798/pulling-cards-from-a-deck-without-replacement-to-reach-a-goal-average-draws-nee)."
   ]
  },
  {
   "cell_type": "code",
   "execution_count": 132,
   "metadata": {
    "autoscroll": false,
    "ein.hycell": false,
    "ein.tags": "worksheet-0",
    "slideshow": {
     "slide_type": "-"
    }
   },
   "outputs": [
    {
     "data": {
      "image/png": "[encoded data removed]",
      "text/plain": [
       "<Figure size 432x288 with 1 Axes>"
      ]
     },
     "metadata": {
      "needs_background": "light"
     },
     "output_type": "display_data"
    }
   ],
   "source": [
    "%matplotlib inline\n",
    "import matplotlib.pyplot as plt\n",
    "import numpy as np\n",
    "from plot_help import remove_duplicate_labels\n",
    "\n",
    "def random_search(number_of_candidates):\n",
    "    search_space = 18928\n",
    "    return (number_of_candidates * (search_space + 1)) / (top_number + 1)\n",
    "\n",
    "\n",
    "# Plot the number of found candidates by GA as a function of evaluated candidates\n",
    "found = set()\n",
    "i = 0\n",
    "for row in db.select('relaxed=1', sort='gaid'):\n",
    "    i += 1\n",
    "    s = row.atoms_string\n",
    "    if s in top_list and s not in found:\n",
    "        found.add(s)\n",
    "        lf = len(found)\n",
    "        plt.plot(i, lf, 'bo', label='GA')\n",
    "        \n",
    "# Plot the random search\n",
    "y = np.array(range(top_number + 1))\n",
    "plt.plot(random_search(y), y, 'k-', label='Random search')\n",
    "plt.xlabel('Evaluations performed')\n",
    "plt.ylabel('Candidates found')\n",
    "remove_duplicate_labels(plt.gca())\n",
    "plt.show()"
   ]
  },
  {
   "cell_type": "markdown",
   "metadata": {
    "ein.tags": "worksheet-0",
    "slideshow": {
     "slide_type": "-"
    }
   },
   "source": [
    "## Assignment\n",
    "\n",
    "Change the search space to only include oxides (`X=O3`) and do the same search locating the oxides best fitting for water splitting."
   ]
  }
 ],
 "metadata": {
  "kernelspec": {
   "display_name": "Python 3",
   "language": "python",
   "name": "python3"
  },
  "language_info": {
   "codemirror_mode": {
    "name": "ipython",
    "version": 3
   },
   "file_extension": ".py",
   "mimetype": "text/x-python",
   "name": "python",
   "nbconvert_exporter": "python",
   "pygments_lexer": "ipython3",
   "version": "3.6.2"
  },
  "name": "ga-perovskites.ipynb"
 },
 "nbformat": 4,
 "nbformat_minor": 2
}
